{
 "cells": [
  {
   "cell_type": "markdown",
   "id": "3068fc17-241b-497a-a778-6fcb9f13b059",
   "metadata": {},
   "source": [
    "## Exercise 4-a: Strip method to remove whitespace on both sides\n",
    "Use strip method to strip the whitespaces on both sides of the string."
   ]
  },
  {
   "cell_type": "code",
   "execution_count": 1,
   "id": "5227ef02-a8bc-40cc-a5bf-b5f4eeb1fd71",
   "metadata": {},
   "outputs": [
    {
     "name": "stdout",
     "output_type": "stream",
     "text": [
      "Hello World!\n"
     ]
    }
   ],
   "source": [
    "str=\"     Hello World!   \"\n",
    "\n",
    "str=str.strip()\n",
    "\n",
    "print(str)"
   ]
  },
  {
   "cell_type": "markdown",
   "id": "e095bc9e-be84-49a4-94bd-3de1077c44ad",
   "metadata": {},
   "source": [
    "## Exercise 4-b: Strip method to remove specific characters from a string\n",
    "Using .strip() method, strip the string so that, only \"Babylon\" remains."
   ]
  },
  {
   "cell_type": "code",
   "execution_count": 2,
   "id": "767f814b-8795-4bcb-b213-7b6d7c75b876",
   "metadata": {},
   "outputs": [
    {
     "name": "stdout",
     "output_type": "stream",
     "text": [
      "Babylon\n"
     ]
    }
   ],
   "source": [
    "str=\"#$^&#@%$& Babylon #@$&@#\"\n",
    "\n",
    "str=str.strip(\"#$^&#@%$& \")\n",
    "\n",
    "print(str)"
   ]
  },
  {
   "cell_type": "markdown",
   "id": "d3cf31fd-046b-4549-85ff-f49dba9ae589",
   "metadata": {},
   "source": [
    "## Exercise 4-c: Rstrip method to remove from the right side only\n",
    "Let's say you created a program that crawls websites online and it returned a string with a bunch of unnecessary characters on the right side. Using .rstrip() method, strip the characters from the right side of the string only so, in the end you get: \"@Bloomberg\"\n",
    "\n"
   ]
  },
  {
   "cell_type": "code",
   "execution_count": 3,
   "id": "70181010-fec8-44b3-a138-6bf07b8e5dbb",
   "metadata": {},
   "outputs": [
    {
     "name": "stdout",
     "output_type": "stream",
     "text": [
      "@Bloomberg\n"
     ]
    }
   ],
   "source": [
    "str=\"@Bloomberg@@@@@###\"\n",
    "\n",
    "str=str.rstrip(\"@#\")\n",
    "\n",
    "print(str)"
   ]
  },
  {
   "cell_type": "markdown",
   "id": "8be9b503-2fc5-4e25-8d66-0bf2c5dac9a4",
   "metadata": {},
   "source": [
    "## Exercise 4-d: Lstrip method to remove from the left side only\n",
    "Using a combination of .split() and .lstrip() methods, get the word \"Derivatives\"."
   ]
  },
  {
   "cell_type": "code",
   "execution_count": 4,
   "id": "7f172ffa-d199-4ade-b25d-415d9b9b3d32",
   "metadata": {},
   "outputs": [
    {
     "name": "stdout",
     "output_type": "stream",
     "text": [
      "Derivatives\n"
     ]
    }
   ],
   "source": [
    "str=\"......Macroeconomics,...........Derivatives\"\n",
    "\n",
    "lst=str.split(\",\")\n",
    "\n",
    "ans_1=lst[1].lstrip(\".\")\n",
    "\n",
    "print(ans_1)"
   ]
  },
  {
   "cell_type": "code",
   "execution_count": null,
   "id": "b8cc3cc3-9029-44c6-ba3f-8543bba6bbb0",
   "metadata": {},
   "outputs": [],
   "source": []
  }
 ],
 "metadata": {
  "kernelspec": {
   "display_name": "Python 3",
   "language": "python",
   "name": "python3"
  },
  "language_info": {
   "codemirror_mode": {
    "name": "ipython",
    "version": 3
   },
   "file_extension": ".py",
   "mimetype": "text/x-python",
   "name": "python",
   "nbconvert_exporter": "python",
   "pygments_lexer": "ipython3",
   "version": "3.8.8"
  }
 },
 "nbformat": 4,
 "nbformat_minor": 5
}
