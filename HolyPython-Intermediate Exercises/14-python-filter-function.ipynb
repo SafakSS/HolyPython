{
 "cells": [
  {
   "cell_type": "markdown",
   "metadata": {},
   "source": [
    "## Exercise 14-a\n",
    "Using filter() function filter the list so that only negative numbers are left."
   ]
  },
  {
   "cell_type": "code",
   "execution_count": 3,
   "metadata": {},
   "outputs": [
    {
     "name": "stdout",
     "output_type": "stream",
     "text": [
      "[-1, -0.5, -0.2, -100]\n",
      "[-1, -0.5, -0.2, -100]\n"
     ]
    }
   ],
   "source": [
    "# Solution 1:\n",
    "lst1=[12, -1, 9, 8, -0.5, -0.2, -100]\n",
    "\n",
    "lst2=list(filter(lambda x:0>x,lst1))\n",
    "print(lst2)\n",
    "\n",
    "\n",
    "# Solution 2:\n",
    "lst1=[12, -1, 9, 8, -0.5, -0.2, -100]\n",
    "\n",
    "st2 = list(filter(lambda x: x<0, lst1))\n",
    "print(lst2)"
   ]
  },
  {
   "cell_type": "markdown",
   "metadata": {},
   "source": [
    "## Exercise 14-b\n",
    "Using filter function, filter the even numbers so that only odd numbers are passed to the new list."
   ]
  },
  {
   "cell_type": "code",
   "execution_count": 4,
   "metadata": {},
   "outputs": [
    {
     "name": "stdout",
     "output_type": "stream",
     "text": [
      "[19, 13, 11, 1]\n"
     ]
    }
   ],
   "source": [
    "lst1=[22, 100, 19, 13, 11, 1, 4, 66]\n",
    "\n",
    "lst2=list(filter(lambda x:x%2==1, lst1))\n",
    "print(lst2)"
   ]
  },
  {
   "cell_type": "markdown",
   "metadata": {},
   "source": [
    "## Exercise 14-c\n",
    "Using filter() and list() functions and .lower() method filter all the vowels in a given string."
   ]
  },
  {
   "cell_type": "code",
   "execution_count": 5,
   "metadata": {},
   "outputs": [
    {
     "name": "stdout",
     "output_type": "stream",
     "text": [
      "['i', 'e', 'O', 'i', 'i', 'i', 'a', 'e', 'a', 'e', 'i', 'e', 'i', 'i', 'i', 'a']\n"
     ]
    }
   ],
   "source": [
    "str1=\"Winter Olympics in 2022 will take place in Beijing China\"\n",
    "\n",
    "lst = list(filter(lambda x: True if x.lower() in \"aeiou\" else False, str1))\n",
    "print(lst)"
   ]
  },
  {
   "cell_type": "markdown",
   "metadata": {},
   "source": [
    "## Exercise 14-d\n",
    "This time using filter() and list() functions filter all the positive integers in the string."
   ]
  },
  {
   "cell_type": "code",
   "execution_count": 6,
   "metadata": {},
   "outputs": [
    {
     "name": "stdout",
     "output_type": "stream",
     "text": [
      "['2', '0', '2', '2']\n"
     ]
    }
   ],
   "source": [
    "str1=\"Winter Olympics in 2022 will take place in Beijing China\"\n",
    "\n",
    "lst=list(filter(lambda x: True if x in \"0123456789\" else False, str1))\n",
    "print(lst)"
   ]
  },
  {
   "cell_type": "markdown",
   "metadata": {},
   "source": [
    "## Exercise 14-e\n",
    "Using map() and filter() functions add 2000 to the values below 8000."
   ]
  },
  {
   "cell_type": "code",
   "execution_count": 7,
   "metadata": {},
   "outputs": [
    {
     "name": "stdout",
     "output_type": "stream",
     "text": [
      "[3000, 2500, 2600, 2700, 7000]\n"
     ]
    }
   ],
   "source": [
    "lst1=[1000, 500, 600, 700, 5000, 90000, 17500]\n",
    "\n",
    "lst2 = list(map(lambda x: x+2000, filter(lambda x: x<8000, lst1)))\n",
    "print(lst2)"
   ]
  },
  {
   "cell_type": "markdown",
   "metadata": {},
   "source": [
    "## Exercise 14-f\n",
    "This time swap the map() and filter() functions so that map() function is inside filter() function. Convert a number to positive if it's negative in the list. Only pass those that are converted from negative to positive to the new list.\n",
    "\n"
   ]
  },
  {
   "cell_type": "code",
   "execution_count": 8,
   "metadata": {},
   "outputs": [
    {
     "name": "stdout",
     "output_type": "stream",
     "text": [
      "[1000, 600, 90000, 17500]\n"
     ]
    }
   ],
   "source": [
    "lst1=[-1000, 500, -600, 700, 5000, -90000, -17500]\n",
    "\n",
    "lst2 = list(filter(lambda x: True if x>0 else False, map(lambda x: x*-1, lst1)))\n",
    "print(lst2)"
   ]
  },
  {
   "cell_type": "code",
   "execution_count": null,
   "metadata": {},
   "outputs": [],
   "source": []
  }
 ],
 "metadata": {
  "kernelspec": {
   "display_name": "Python 3",
   "language": "python",
   "name": "python3"
  },
  "language_info": {
   "codemirror_mode": {
    "name": "ipython",
    "version": 3
   },
   "file_extension": ".py",
   "mimetype": "text/x-python",
   "name": "python",
   "nbconvert_exporter": "python",
   "pygments_lexer": "ipython3",
   "version": "3.8.5"
  }
 },
 "nbformat": 4,
 "nbformat_minor": 4
}
