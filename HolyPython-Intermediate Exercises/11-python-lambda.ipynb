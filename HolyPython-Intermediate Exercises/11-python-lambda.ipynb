{
 "cells": [
  {
   "cell_type": "markdown",
   "metadata": {},
   "source": [
    "## Exercise 11-a\n",
    "Write a lambda function that takes x as parameter and returns x+2. Then assign it to a variable named L.\n",
    "\n"
   ]
  },
  {
   "cell_type": "code",
   "execution_count": 1,
   "metadata": {},
   "outputs": [
    {
     "name": "stdout",
     "output_type": "stream",
     "text": [
      "8\n"
     ]
    }
   ],
   "source": [
    "i=6\n",
    "\n",
    "L= lambda i:i+2\n",
    "\n",
    "print(L(i))"
   ]
  },
  {
   "cell_type": "markdown",
   "metadata": {},
   "source": [
    "## Exercise 11-b\n",
    "Write a lambda function which takes z as a parameter and returns z*11\n",
    "\n",
    "\n",
    "Assign it to variable named: f."
   ]
  },
  {
   "cell_type": "code",
   "execution_count": 2,
   "metadata": {},
   "outputs": [
    {
     "name": "stdout",
     "output_type": "stream",
     "text": [
      "99\n"
     ]
    }
   ],
   "source": [
    "i=9\n",
    "\n",
    "f=lambda i:i*11\n",
    "\n",
    "print(f(i))"
   ]
  },
  {
   "cell_type": "markdown",
   "metadata": {},
   "source": [
    "## Exercise 11-c\n",
    "Write a function which takes two arguments: a and b and returns the multiplication of them: a*b. Assign it to a variable named: f."
   ]
  },
  {
   "cell_type": "code",
   "execution_count": 3,
   "metadata": {},
   "outputs": [
    {
     "name": "stdout",
     "output_type": "stream",
     "text": [
      "50\n"
     ]
    }
   ],
   "source": [
    "i,j=5,10\n",
    "\n",
    "f=lambda i,j:i*j\n",
    "\n",
    "print(f(i, j))"
   ]
  },
  {
   "cell_type": "markdown",
   "metadata": {},
   "source": [
    "## Exercise 11-d\n",
    "Using .sort() method, create a lambda function that sorts the list in descending order. Refrain from using the reverse parameter.\n",
    "\n",
    "\n",
    "(Hint: lambda will be passed to sort method's key parameter as argument)\n",
    "\n",
    "\n",
    "Please check out Hint 0 below to be informed about a glitch regarding this exercise.\n",
    "\n"
   ]
  },
  {
   "cell_type": "code",
   "execution_count": 4,
   "metadata": {},
   "outputs": [
    {
     "name": "stdout",
     "output_type": "stream",
     "text": [
      "[10000, 999, 100, 99, 10, 9, 1]\n"
     ]
    }
   ],
   "source": [
    "lst=[100, 10, 10000, 1, 9, 999, 99]\n",
    "\n",
    "lst.sort(key=lambda x:100/x)\n",
    "\n",
    "print(lst)"
   ]
  },
  {
   "cell_type": "markdown",
   "metadata": {},
   "source": [
    "## Exercise 11-e\n",
    "This time use the sorted() function to sort the list in ascending order with lambda."
   ]
  },
  {
   "cell_type": "code",
   "execution_count": 5,
   "metadata": {},
   "outputs": [
    {
     "name": "stdout",
     "output_type": "stream",
     "text": [
      "[1, 9, 10, 99, 100, 999, 10000]\n"
     ]
    }
   ],
   "source": [
    "lst=[100, 10, 10000, 1, 9, 999, 99]\n",
    "\n",
    "lst=sorted(lst,key=lambda x:x)\n",
    "\n",
    "print(lst)"
   ]
  },
  {
   "cell_type": "markdown",
   "metadata": {},
   "source": []
  },
  {
   "cell_type": "markdown",
   "metadata": {},
   "source": [
    "## Exercise 11-f\n",
    "Using sorted() function and lambda sort the words in the list based on their second letter from a to z."
   ]
  },
  {
   "cell_type": "code",
   "execution_count": 6,
   "metadata": {},
   "outputs": [
    {
     "name": "stdout",
     "output_type": "stream",
     "text": [
      "['rabbit', 'marten', 'whale', 'chipmunk', 'sheep', 'goose', 'fox', 'otter']\n"
     ]
    }
   ],
   "source": [
    "lst=[\"otter\", \"whale\", \"goose\", \"chipmunk\", \"fox\", \"sheep\", \"rabbit\", \"marten\"]\n",
    "\n",
    "lst=sorted(lst,key=lambda x:x[1])\n",
    "\n",
    "print(lst)"
   ]
  },
  {
   "cell_type": "markdown",
   "metadata": {},
   "source": [
    "## Exercise 11-g\n",
    "Using sorted() function and lambda sort the tuples in the list based on the second items."
   ]
  },
  {
   "cell_type": "code",
   "execution_count": 7,
   "metadata": {},
   "outputs": [
    {
     "name": "stdout",
     "output_type": "stream",
     "text": [
      "[(4887871, 'Alabama'), (39865590, 'California'), (1420491, 'Hawaii'), (19542209, 'New York'), (626299, 'Vermont'), (1805832, 'West Virginia')]\n"
     ]
    }
   ],
   "source": [
    "lst=[(19542209, \"New York\") ,(4887871, \"Alabama\"), (1420491, \"Hawaii\"), (626299, \"Vermont\"), (1805832, \"West Virginia\"), (39865590, \"California\")]\n",
    "\n",
    "lst=sorted(lst, key=lambda x:x[1])\n",
    "\n",
    "print(lst)"
   ]
  },
  {
   "cell_type": "markdown",
   "metadata": {},
   "source": [
    "## Exercise 11-h\n",
    "Using sorted() function and lambda sort the tuples in the list based on the last character of the second items.\n",
    "\n"
   ]
  },
  {
   "cell_type": "code",
   "execution_count": 8,
   "metadata": {},
   "outputs": [
    {
     "name": "stdout",
     "output_type": "stream",
     "text": [
      "[(4887871, 'Alabama'), (1805832, 'West Virginia'), (39865590, 'California'), (1420491, 'Hawaii'), (19542209, 'New York'), (626299, 'Vermont')]\n"
     ]
    }
   ],
   "source": [
    "lst=[(19542209, \"New York\") ,(4887871, \"Alabama\"), (1420491, \"Hawaii\"), (626299, \"Vermont\"), (1805832, \"West Virginia\"), (39865590, \"California\")]\n",
    "\n",
    "lst=sorted(lst, key=lambda x:x[1][-1])\n",
    "\n",
    "print(lst)"
   ]
  },
  {
   "cell_type": "markdown",
   "metadata": {},
   "source": [
    "## Exercise 11-i\n",
    "Using sorted() function, reverse parameter and lambda sort the tuples in the list based on the last character of the second items in reverse order.\n",
    "\n"
   ]
  },
  {
   "cell_type": "code",
   "execution_count": 9,
   "metadata": {},
   "outputs": [
    {
     "name": "stdout",
     "output_type": "stream",
     "text": [
      "[(626299, 'Vermont'), (19542209, 'New York'), (1420491, 'Hawaii'), (4887871, 'Alabama'), (1805832, 'West Virginia'), (39865590, 'California')]\n"
     ]
    }
   ],
   "source": [
    "lst=[(19542209, \"New York\") ,(4887871, \"Alabama\"), (1420491, \"Hawaii\"), (626299, \"Vermont\"), (1805832, \"West Virginia\"), (39865590, \"California\")]\n",
    "\n",
    "lst=sorted(lst, key=lambda x:x[1][-1], reverse=True)\n",
    "\n",
    "print(lst)"
   ]
  },
  {
   "cell_type": "code",
   "execution_count": null,
   "metadata": {},
   "outputs": [],
   "source": []
  }
 ],
 "metadata": {
  "kernelspec": {
   "display_name": "Python 3",
   "language": "python",
   "name": "python3"
  },
  "language_info": {
   "codemirror_mode": {
    "name": "ipython",
    "version": 3
   },
   "file_extension": ".py",
   "mimetype": "text/x-python",
   "name": "python",
   "nbconvert_exporter": "python",
   "pygments_lexer": "ipython3",
   "version": "3.8.5"
  }
 },
 "nbformat": 4,
 "nbformat_minor": 4
}
