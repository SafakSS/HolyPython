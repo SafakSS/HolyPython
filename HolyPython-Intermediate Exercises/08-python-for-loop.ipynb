{
 "cells": [
  {
   "cell_type": "markdown",
   "id": "5a686a92-cb29-433e-89f4-702071875bcb",
   "metadata": {},
   "source": [
    "## Exercise 8-a\n",
    "Write a for loop so that every item in the list is printed."
   ]
  },
  {
   "cell_type": "code",
   "execution_count": 1,
   "id": "e7e1a949-65bc-4eb2-aade-76345fe17400",
   "metadata": {},
   "outputs": [
    {
     "name": "stdout",
     "output_type": "stream",
     "text": [
      "koala\n",
      "cat\n",
      "fox\n",
      "panda\n",
      "chipmunk\n",
      "sloth\n",
      "penguin\n",
      "dolphin\n"
     ]
    }
   ],
   "source": [
    "lst=[\"koala\", \"cat\", \"fox\", \"panda\", \"chipmunk\", \"sloth\", \"penguin\", \"dolphin\"]\n",
    "\n",
    "for pet in lst:\n",
    "    print(pet)"
   ]
  },
  {
   "cell_type": "markdown",
   "id": "b6128b90-f400-4572-97d6-8f7d6e00b034",
   "metadata": {},
   "source": [
    "## Exercise 8-b\n",
    "Write a for loop which print \"Hello!, \" plus each name in the list. i.e.: \"Hello!, Sam\"\n",
    "\n"
   ]
  },
  {
   "cell_type": "code",
   "execution_count": 2,
   "id": "13c908d6-f072-4d39-995e-7e9f6690aeda",
   "metadata": {},
   "outputs": [
    {
     "name": "stdout",
     "output_type": "stream",
     "text": [
      "Hello!, Sam\n",
      "Hello!, Lisa\n",
      "Hello!, Micha\n",
      "Hello!, Dave\n",
      "Hello!, Wyatt\n",
      "Hello!, Emma\n",
      "Hello!, Sage\n"
     ]
    }
   ],
   "source": [
    "lst=[\"Sam\", \"Lisa\", \"Micha\", \"Dave\", \"Wyatt\", \"Emma\", \"Sage\"]\n",
    "\n",
    "for name in lst:\n",
    "    print(\"Hello!, \"+ name)"
   ]
  },
  {
   "cell_type": "markdown",
   "id": "f33c38cd-6437-4a57-85f4-2f68206f264a",
   "metadata": {},
   "source": [
    "## Exercise 8-c\n",
    "Write a for loop that iterates through a string and prints every letter."
   ]
  },
  {
   "cell_type": "code",
   "execution_count": 3,
   "id": "4037d111-74d7-423e-9231-da7b048645cd",
   "metadata": {},
   "outputs": [
    {
     "name": "stdout",
     "output_type": "stream",
     "text": [
      "A\n",
      "n\n",
      "t\n",
      "a\n",
      "r\n",
      "c\n",
      "t\n",
      "i\n",
      "c\n",
      "a\n"
     ]
    }
   ],
   "source": [
    "str=\"Antarctica\"\n",
    "\n",
    "for letter in str:\n",
    "    print(letter)"
   ]
  },
  {
   "cell_type": "markdown",
   "id": "45989f25-bb32-4e41-8b1b-9f41b0fcfec6",
   "metadata": {},
   "source": [
    "## Exercise 8-d\n",
    "Type a code inside the for loop so that counter variable named c is increased by one each time loop iterates. Can you guess how many times it will add 1?."
   ]
  },
  {
   "cell_type": "code",
   "execution_count": 4,
   "id": "0332f9ea-4edc-4869-947d-5de84aedc0f8",
   "metadata": {},
   "outputs": [
    {
     "name": "stdout",
     "output_type": "stream",
     "text": [
      "12\n"
     ]
    }
   ],
   "source": [
    "str=\"Civilization\"\n",
    "c=0\n",
    "\n",
    "for i in str:\n",
    "    c += 1\n",
    "print(c)"
   ]
  },
  {
   "cell_type": "markdown",
   "id": "e2071b38-2ae5-43c0-94c9-35ca6addfe87",
   "metadata": {},
   "source": [
    "## Exercise 8-e\n",
    "Using a for loop and .append() method append each item with a Dr. prefix to the lst."
   ]
  },
  {
   "cell_type": "code",
   "execution_count": 7,
   "id": "1b5376b2-6c7e-4c56-b434-83feb6918004",
   "metadata": {},
   "outputs": [
    {
     "name": "stdout",
     "output_type": "stream",
     "text": [
      "['Dr.Phil', 'Dr.Oz', 'Dr.Seuss', 'Dr.Dre']\n"
     ]
    }
   ],
   "source": [
    "lst1=[\"Phil\", \"Oz\", \"Seuss\", \"Dre\"]\n",
    "lst2=[]\n",
    "\n",
    "for name in lst1:\n",
    "    lst2.append(\"Dr.\" +name)\n",
    "print(lst2)"
   ]
  },
  {
   "cell_type": "markdown",
   "id": "2b7a262d-7345-4b62-926e-2a9054ab782c",
   "metadata": {},
   "source": [
    "## Exercise 8-f\n",
    "Write a for loop which appends the square of each number to the new list.\n",
    "\n"
   ]
  },
  {
   "cell_type": "code",
   "execution_count": 8,
   "id": "67a82649-64ae-449e-a410-15d874f3168e",
   "metadata": {},
   "outputs": [
    {
     "name": "stdout",
     "output_type": "stream",
     "text": [
      "[9, 49, 36, 64, 81, 121, 225, 625]\n"
     ]
    }
   ],
   "source": [
    "lst1=[3, 7, 6, 8, 9, 11, 15, 25]\n",
    "lst2=[]\n",
    "\n",
    "for num in lst1:\n",
    "    lst2.append(num**2)\n",
    "print(lst2)"
   ]
  },
  {
   "cell_type": "markdown",
   "id": "e0908f80-3efa-4c7e-b6c0-3b1eefee0d45",
   "metadata": {},
   "source": [
    "## Exercise 8-g\n",
    "Write a for loop using an if statement, that appends each number to the new list if it's positive."
   ]
  },
  {
   "cell_type": "code",
   "execution_count": 9,
   "id": "46c4be5a-a5ee-40a5-bd64-f66156d3469c",
   "metadata": {},
   "outputs": [
    {
     "name": "stdout",
     "output_type": "stream",
     "text": [
      "[111, 32, 9, 85]\n"
     ]
    }
   ],
   "source": [
    "lst1=[111, 32, -9, -45, -17, 9, 85, -10]\n",
    "lst2=[]\n",
    "\n",
    "for num in lst1:\n",
    "    if num > 0 :\n",
    "        lst2.append(num)\n",
    "print(lst2)"
   ]
  },
  {
   "cell_type": "markdown",
   "id": "90e0dd93-5f7c-4a7f-8a44-8d2ee196f0fc",
   "metadata": {},
   "source": [
    "## Exercise 8-h\n",
    "Using for loop and if statement, append the value minus 1000 for each key to the new list if the value is above 1000. i.e.: if the value is 1500, 500 should be added to the new list."
   ]
  },
  {
   "cell_type": "code",
   "execution_count": 11,
   "id": "09fe5d70-0dac-47b9-b051-0520b0435e55",
   "metadata": {},
   "outputs": [
    {
     "name": "stdout",
     "output_type": "stream",
     "text": [
      "[100, 1300, 50, 2200]\n"
     ]
    }
   ],
   "source": [
    "dict={\"z1\":900, \"t1\": 1100, \"p1\": 2300, \"r1\": 1050, \"k1\": 3200, \"g1\": 400}\n",
    "lst=[]\n",
    "\n",
    "for d in dict:\n",
    "    if dict[d] > 1000:\n",
    "          lst.append(dict[d]-1000)\n",
    "    else:\n",
    "        pass\n",
    "    \n",
    "print(lst)"
   ]
  },
  {
   "cell_type": "markdown",
   "id": "95a71801-7136-4e84-b6cc-57e248d224cc",
   "metadata": {},
   "source": [
    "## Exercise 8-i\n",
    "Write a for loop which appends the type of each element in the first list to the second list.\n",
    "\n"
   ]
  },
  {
   "cell_type": "code",
   "execution_count": null,
   "id": "a3c2501a-0b29-47ce-ad92-9d10fd337cc0",
   "metadata": {},
   "outputs": [],
   "source": []
  }
 ],
 "metadata": {
  "kernelspec": {
   "display_name": "Python 3",
   "language": "python",
   "name": "python3"
  },
  "language_info": {
   "codemirror_mode": {
    "name": "ipython",
    "version": 3
   },
   "file_extension": ".py",
   "mimetype": "text/x-python",
   "name": "python",
   "nbconvert_exporter": "python",
   "pygments_lexer": "ipython3",
   "version": "3.8.8"
  }
 },
 "nbformat": 4,
 "nbformat_minor": 5
}
