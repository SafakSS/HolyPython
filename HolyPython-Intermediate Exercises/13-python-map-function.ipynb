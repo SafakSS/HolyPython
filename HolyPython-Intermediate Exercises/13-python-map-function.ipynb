{
 "cells": [
  {
   "cell_type": "markdown",
   "metadata": {},
   "source": [
    "## Exercise 13-a\n",
    "Write a map function that adds plus 5 to each item in the list."
   ]
  },
  {
   "cell_type": "code",
   "execution_count": 1,
   "metadata": {},
   "outputs": [
    {
     "name": "stdout",
     "output_type": "stream",
     "text": [
      "[15, 25, 35, 45, 55, 65]\n"
     ]
    }
   ],
   "source": [
    "lst1=[10, 20, 30, 40, 50, 60]\n",
    "\n",
    "lst2=list(map(lambda x:x+5, lst1))\n",
    "print(lst2)"
   ]
  },
  {
   "cell_type": "markdown",
   "metadata": {},
   "source": [
    "## Exercise 13-b\n",
    "Write a map function that returns the squares of the items in the list."
   ]
  },
  {
   "cell_type": "code",
   "execution_count": 2,
   "metadata": {},
   "outputs": [
    {
     "name": "stdout",
     "output_type": "stream",
     "text": [
      "[100, 400, 900, 1600, 2500, 3600]\n"
     ]
    }
   ],
   "source": [
    "lst1=[10, 20, 30, 40, 50, 60]\n",
    "\n",
    "lst2=list(map(lambda x:x**2, lst1))\n",
    "print(lst2)"
   ]
  },
  {
   "cell_type": "markdown",
   "metadata": {},
   "source": [
    "## Exercise 13-c\n",
    "Write a map function that adds \"Hello, \" in front of each item in the list."
   ]
  },
  {
   "cell_type": "code",
   "execution_count": 3,
   "metadata": {},
   "outputs": [
    {
     "name": "stdout",
     "output_type": "stream",
     "text": [
      "['Hello, Jane', 'Hello, Lee', 'Hello, Will', 'Hello, Brie']\n"
     ]
    }
   ],
   "source": [
    "lst1=[\"Jane\", \"Lee\", \"Will\", \"Brie\"]\n",
    "\n",
    "lst2=list(map(lambda x:\"Hello, \"+x, lst1))\n",
    "print(lst2)"
   ]
  },
  {
   "cell_type": "markdown",
   "metadata": {},
   "source": [
    "## Exercise 13-d\n",
    "Using map() function and len() function create a list that's consisted of lengths of each element in the first list."
   ]
  },
  {
   "cell_type": "code",
   "execution_count": 4,
   "metadata": {},
   "outputs": [
    {
     "name": "stdout",
     "output_type": "stream",
     "text": [
      "[6, 9, 6, 9, 6]\n",
      "[6, 9, 6, 9, 6]\n"
     ]
    }
   ],
   "source": [
    "# Solution 1:\n",
    "lst1=[\"Alpine\", \"Avalanche\", \"Powder\", \"Snowflake\", \"Summit\"]\n",
    "\n",
    "lst2 = list(map(lambda x:len(x), lst1))\n",
    "print(lst2)\n",
    "\n",
    "# Solution 2:\n",
    "lst1=[\"Alpine\", \"Avalanche\", \"Powder\", \"Snowflake\", \"Summit\"]\n",
    "\n",
    "lst2 = list(map(len, lst1))\n",
    "print(lst2)"
   ]
  },
  {
   "cell_type": "markdown",
   "metadata": {},
   "source": [
    "## Exercise 13-e\n",
    "Using map() function and lambda add each elements of two lists together. Use a lambda with two arguments."
   ]
  },
  {
   "cell_type": "code",
   "execution_count": 9,
   "metadata": {},
   "outputs": [
    {
     "name": "stdout",
     "output_type": "stream",
     "text": [
      "[101, 210, 400, 1400, 10500]\n"
     ]
    }
   ],
   "source": [
    "lst1=[100, 200, 300, 400, 500]\n",
    "lst2=[1,10,100,1000,10000]\n",
    "\n",
    "lst3=list(map(lambda x,y: x+y, lst1,lst2))\n",
    "print(lst3)"
   ]
  },
  {
   "cell_type": "markdown",
   "metadata": {},
   "source": [
    "## Exercise 13-f\n",
    "Using map() function and lambda and count() function create a list which consists of the number of occurence of letter: a.\n",
    "\n"
   ]
  },
  {
   "cell_type": "code",
   "execution_count": 10,
   "metadata": {},
   "outputs": [
    {
     "name": "stdout",
     "output_type": "stream",
     "text": [
      "[2, 3, 1, 2, 1, 2, 2]\n"
     ]
    }
   ],
   "source": [
    "lst1=[\"Alaska\", \"Alabama\", \"Arizona\", \"Arkansas\", \"Colorado\", \"Montana\", \"Nevada\"]\n",
    "\n",
    "lst2=list(map(lambda x:x.count(\"a\"),lst1))\n",
    "print(lst2)"
   ]
  },
  {
   "cell_type": "markdown",
   "metadata": {},
   "source": [
    "## Exercise 13-g\n",
    "Using map() function and lambda and count() function create a list consisted of the number of occurence of both letters: A and a."
   ]
  },
  {
   "cell_type": "code",
   "execution_count": 12,
   "metadata": {},
   "outputs": [
    {
     "name": "stdout",
     "output_type": "stream",
     "text": [
      "[3, 4, 2, 3, 1, 2, 2]\n",
      "[3, 4, 2, 3, 1, 2, 2]\n"
     ]
    }
   ],
   "source": [
    "#Solution 1:\n",
    "lst1=[\"Alaska\", \"Alabama\", \"Arizona\", \"Arkansas\", \"Colorado\", \"Montana\", \"Nevada\"]\n",
    "\n",
    "lst2=list(map(lambda x:x.count(\"a\")+x.count(\"A\"),lst1))\n",
    "print(lst2)\n",
    "\n",
    "\n",
    "#Solution 2:\n",
    "lst1=[\"Alaska\", \"Alabama\", \"Arizona\", \"Arkansas\", \"Colorado\", \"Montana\", \"Nevada\"]\n",
    "\n",
    "lst2 = list(map(lambda x: x.lower().count(\"a\"), lst1))\n",
    "print(lst2)"
   ]
  },
  {
   "cell_type": "markdown",
   "metadata": {},
   "source": [
    "## Exercise 13-h\n",
    "Using map() function, first return a new list with absolute values of existing list. Then for ans_1, find the total sum of the new list's elements.\n",
    "\n"
   ]
  },
  {
   "cell_type": "code",
   "execution_count": 14,
   "metadata": {},
   "outputs": [
    {
     "name": "stdout",
     "output_type": "stream",
     "text": [
      "117.6043\n"
     ]
    }
   ],
   "source": [
    "lst=[99.3890,-3.5, 5, -0.7123, -9, -0.003]\n",
    "\n",
    "new_lst= list(map(lambda x:abs(x),lst))\n",
    "ans_1= sum(new_lst)\n",
    "print(ans_1)"
   ]
  },
  {
   "cell_type": "code",
   "execution_count": null,
   "metadata": {},
   "outputs": [],
   "source": []
  }
 ],
 "metadata": {
  "kernelspec": {
   "display_name": "Python 3",
   "language": "python",
   "name": "python3"
  },
  "language_info": {
   "codemirror_mode": {
    "name": "ipython",
    "version": 3
   },
   "file_extension": ".py",
   "mimetype": "text/x-python",
   "name": "python",
   "nbconvert_exporter": "python",
   "pygments_lexer": "ipython3",
   "version": "3.8.5"
  }
 },
 "nbformat": 4,
 "nbformat_minor": 4
}
