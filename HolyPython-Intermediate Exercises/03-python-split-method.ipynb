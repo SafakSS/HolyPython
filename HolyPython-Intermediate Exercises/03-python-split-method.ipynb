{
 "cells": [
  {
   "cell_type": "markdown",
   "id": "6932caf7-2440-4d87-8344-9c4a9ee7f201",
   "metadata": {},
   "source": [
    "## Exercise 3-a: Splitting Up Words Using Split Method\n",
    "Split the string based on space character: \" \"."
   ]
  },
  {
   "cell_type": "code",
   "execution_count": 1,
   "id": "ef65b509-ef7c-4294-bd5b-0dda55350c3b",
   "metadata": {},
   "outputs": [
    {
     "name": "stdout",
     "output_type": "stream",
     "text": [
      "['Hello', 'World!']\n"
     ]
    }
   ],
   "source": [
    "str=\"Hello World!\"\n",
    "\n",
    "lst=str.split(\" \")\n",
    " \n",
    "print(lst)"
   ]
  },
  {
   "cell_type": "markdown",
   "id": "bbbee899-35ad-4fe0-8d83-5b8d7ad4901d",
   "metadata": {},
   "source": [
    "## Exercise 3-b: Splitting up based on a specific character (:) with split method\n",
    "Split the numbers."
   ]
  },
  {
   "cell_type": "code",
   "execution_count": 2,
   "id": "de49576c-4800-4003-a356-f4e5a0e9ad3a",
   "metadata": {},
   "outputs": [
    {
     "name": "stdout",
     "output_type": "stream",
     "text": [
      "['101', '102', '103', '201', '202']\n"
     ]
    }
   ],
   "source": [
    "str=\"101:102:103:201:202\"\n",
    "\n",
    "lst=str.split(\":\")\n",
    "\n",
    "print(lst)"
   ]
  },
  {
   "cell_type": "markdown",
   "id": "ad3e3de7-c50e-4a8b-946e-64891c149b37",
   "metadata": {},
   "source": [
    "## Exercise 3-c: Splitting based on special character (;)\n",
    "Using the split method, split the string with semi colon (;) first. Then, print only the last element."
   ]
  },
  {
   "cell_type": "code",
   "execution_count": 3,
   "id": "d2065731-df4c-4682-b094-9491685c4980",
   "metadata": {},
   "outputs": [
    {
     "name": "stdout",
     "output_type": "stream",
     "text": [
      "Barcelona:2-Bayern Munich:2\n"
     ]
    }
   ],
   "source": [
    "str=\"Arsenal:0-Chelsea:1;Barcelona:2-Bayern Munich:2\"\n",
    "\n",
    "lst=str.split(\";\")\n",
    "\n",
    "ans_1=lst[-1]\n",
    "\n",
    "print(ans_1)"
   ]
  },
  {
   "cell_type": "code",
   "execution_count": null,
   "id": "82a7d26a-2329-4878-88d3-955b5fe2e96a",
   "metadata": {},
   "outputs": [],
   "source": []
  }
 ],
 "metadata": {
  "kernelspec": {
   "display_name": "Python 3",
   "language": "python",
   "name": "python3"
  },
  "language_info": {
   "codemirror_mode": {
    "name": "ipython",
    "version": 3
   },
   "file_extension": ".py",
   "mimetype": "text/x-python",
   "name": "python",
   "nbconvert_exporter": "python",
   "pygments_lexer": "ipython3",
   "version": "3.8.8"
  }
 },
 "nbformat": 4,
 "nbformat_minor": 5
}
