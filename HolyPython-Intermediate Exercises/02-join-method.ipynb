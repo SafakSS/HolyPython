{
 "cells": [
  {
   "cell_type": "markdown",
   "id": "15ef5305-d468-4d78-b553-c2d562862435",
   "metadata": {},
   "source": [
    "## Exercise 2-a: Join method of strings w/lists\n",
    "Join the list's elements with: \"+++\".\n",
    "\n"
   ]
  },
  {
   "cell_type": "code",
   "execution_count": 1,
   "id": "f1fb0ce9-fdca-4dba-a887-a7de4c73b8ab",
   "metadata": {},
   "outputs": [
    {
     "name": "stdout",
     "output_type": "stream",
     "text": [
      "Hawaii+++Phuket+++Aruba+++Keys\n"
     ]
    }
   ],
   "source": [
    "lst=[\"Hawaii\", \"Phuket\", \"Aruba\", \"Keys\"]\n",
    "\n",
    "joined=\"+++\".join(lst)\n",
    "\n",
    "print(joined)"
   ]
  },
  {
   "cell_type": "markdown",
   "id": "c83a63bf-0f17-43bd-9303-1bea76c07478",
   "metadata": {},
   "source": [
    "## Exercise 2-b: Join method of strings w/tuples\n",
    "Join the tuple's elements so that you get a proper email address."
   ]
  },
  {
   "cell_type": "code",
   "execution_count": 2,
   "id": "71f039ef-46d4-438f-a7c9-2e8ce5c0bde2",
   "metadata": {},
   "outputs": [
    {
     "name": "stdout",
     "output_type": "stream",
     "text": [
      "Mr.Hathaway@amymail.com\n"
     ]
    }
   ],
   "source": [
    "addresses=(\"Mr.Hathaway\", \"amymail.com\")\n",
    "\n",
    "email=\"@\".join(addresses)\n",
    "\n",
    "print(email)"
   ]
  },
  {
   "cell_type": "markdown",
   "id": "5f6a259f-b609-4c55-b6cf-0b7a66d2dcbc",
   "metadata": {
    "tags": []
   },
   "source": [
    "## Exercise 2-c: Join method with a special character\n",
    "Join each element in the list with a space character: \" \""
   ]
  },
  {
   "cell_type": "code",
   "execution_count": 3,
   "id": "746c3e3c-5169-4848-836d-2eaf885e8118",
   "metadata": {},
   "outputs": [
    {
     "name": "stdout",
     "output_type": "stream",
     "text": [
      "Everything has beauty, but not everyone can see.\n"
     ]
    }
   ],
   "source": [
    "lst=['Everything', 'has', 'beauty,', 'but', 'not', 'everyone', 'can', 'see.']\n",
    "\n",
    "str=\" \".join(lst)\n",
    "\n",
    "print(str)"
   ]
  },
  {
   "cell_type": "markdown",
   "id": "323e20ba-1afc-4172-a247-7e8ab6e83e99",
   "metadata": {},
   "source": [
    "## Exercise 2-d: Join method of strings w/dictionaries\n",
    "Using .join() method join the keys in the dictionary with a comma: \",\".\n",
    "\n"
   ]
  },
  {
   "cell_type": "code",
   "execution_count": 4,
   "id": "78c9b663-2bb3-401c-bac0-3bcfa97f70cb",
   "metadata": {},
   "outputs": [
    {
     "name": "stdout",
     "output_type": "stream",
     "text": [
      "India,Cambodia,Tanzania,Bangladesh,Senegal\n"
     ]
    }
   ],
   "source": [
    "economic_growth={\"India\": 7.0, \"Cambodia\": 7, \"Tanzania\": 6.9, \"Bangladesh\": 6.6, \"Senegal\": 6.6}\n",
    "\n",
    "str=\",\".join(economic_growth)\n",
    "\n",
    "print(str)"
   ]
  },
  {
   "cell_type": "markdown",
   "id": "70e97a5d-f728-449a-b355-d8e0b1ed1694",
   "metadata": {},
   "source": [
    "## Exercise 2-e: Python join method with new line character\n",
    "\"\\n\" is a character that creates a new line. (Similar to when you press enter key in your text editor.)\n",
    "\n",
    "\n",
    "Using \"\\n\" character and .join() method, join the sentences in the list so that it looks like a proper poem."
   ]
  },
  {
   "cell_type": "code",
   "execution_count": 5,
   "id": "2c4dc6f7-81d4-451a-80f5-a420d09c3bc8",
   "metadata": {},
   "outputs": [
    {
     "name": "stdout",
     "output_type": "stream",
     "text": [
      "Not enjoyment, and not sorrow,\n",
      "Is our destined end or way;\n",
      "But to act, that each tomorrow\n",
      "Find us farther than today.\n"
     ]
    }
   ],
   "source": [
    "poem_lst=[\"Not enjoyment, and not sorrow,\", \"Is our destined end or way;\", \"But to act, that each tomorrow\", \"Find us farther than today.\"]\n",
    "\n",
    "poem_str=\"\\n\".join(poem_lst)\n",
    "\n",
    "print(poem_str)"
   ]
  }
 ],
 "metadata": {
  "kernelspec": {
   "display_name": "Python 3",
   "language": "python",
   "name": "python3"
  },
  "language_info": {
   "codemirror_mode": {
    "name": "ipython",
    "version": 3
   },
   "file_extension": ".py",
   "mimetype": "text/x-python",
   "name": "python",
   "nbconvert_exporter": "python",
   "pygments_lexer": "ipython3",
   "version": "3.8.8"
  }
 },
 "nbformat": 4,
 "nbformat_minor": 5
}
