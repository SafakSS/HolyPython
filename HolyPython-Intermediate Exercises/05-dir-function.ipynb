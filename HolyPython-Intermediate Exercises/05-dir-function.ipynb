{
 "cells": [
  {
   "cell_type": "markdown",
   "id": "1d87289c-01b5-4020-a6a3-690e349c1439",
   "metadata": {},
   "source": [
    "## Exercise 5-a\n",
    "Take a look at the attributes and methods of the str class."
   ]
  },
  {
   "cell_type": "code",
   "execution_count": 1,
   "id": "d9f75fe8-5116-49c3-89a3-51b41da479eb",
   "metadata": {},
   "outputs": [
    {
     "name": "stdout",
     "output_type": "stream",
     "text": [
      "['__add__', '__class__', '__contains__', '__delattr__', '__dir__', '__doc__', '__eq__', '__format__', '__ge__', '__getattribute__', '__getitem__', '__getnewargs__', '__gt__', '__hash__', '__init__', '__init_subclass__', '__iter__', '__le__', '__len__', '__lt__', '__mod__', '__mul__', '__ne__', '__new__', '__reduce__', '__reduce_ex__', '__repr__', '__rmod__', '__rmul__', '__setattr__', '__sizeof__', '__str__', '__subclasshook__', 'capitalize', 'casefold', 'center', 'count', 'encode', 'endswith', 'expandtabs', 'find', 'format', 'format_map', 'index', 'isalnum', 'isalpha', 'isascii', 'isdecimal', 'isdigit', 'isidentifier', 'islower', 'isnumeric', 'isprintable', 'isspace', 'istitle', 'isupper', 'join', 'ljust', 'lower', 'lstrip', 'maketrans', 'partition', 'replace', 'rfind', 'rindex', 'rjust', 'rpartition', 'rsplit', 'rstrip', 'split', 'splitlines', 'startswith', 'strip', 'swapcase', 'title', 'translate', 'upper', 'zfill']\n"
     ]
    }
   ],
   "source": [
    "str=\"Hello World!\"\n",
    "\n",
    "print(dir(str))"
   ]
  },
  {
   "cell_type": "markdown",
   "id": "32e581a6-97b4-4f3c-8339-b349c138ab00",
   "metadata": {},
   "source": [
    "## Exercise 5-b\n",
    "Now print the attributes and methods of a list."
   ]
  },
  {
   "cell_type": "code",
   "execution_count": 2,
   "id": "3fa40a09-9b22-4d2b-8454-31c3c583807f",
   "metadata": {},
   "outputs": [
    {
     "name": "stdout",
     "output_type": "stream",
     "text": [
      "['__add__', '__class__', '__contains__', '__delattr__', '__delitem__', '__dir__', '__doc__', '__eq__', '__format__', '__ge__', '__getattribute__', '__getitem__', '__gt__', '__hash__', '__iadd__', '__imul__', '__init__', '__init_subclass__', '__iter__', '__le__', '__len__', '__lt__', '__mul__', '__ne__', '__new__', '__reduce__', '__reduce_ex__', '__repr__', '__reversed__', '__rmul__', '__setattr__', '__setitem__', '__sizeof__', '__str__', '__subclasshook__', 'append', 'clear', 'copy', 'count', 'extend', 'index', 'insert', 'pop', 'remove', 'reverse', 'sort']\n"
     ]
    }
   ],
   "source": [
    "lst=list()\n",
    "\n",
    "print(dir(lst))"
   ]
  },
  {
   "cell_type": "markdown",
   "id": "955d4464-0c23-4af9-ac9e-103e399619c9",
   "metadata": {},
   "source": [
    "## Exercise 5-c\n",
    "Can you print the attributes and methods of a dictionary?."
   ]
  },
  {
   "cell_type": "code",
   "execution_count": 3,
   "id": "4259c910-5e46-4df1-98ab-6c49314f0d14",
   "metadata": {},
   "outputs": [
    {
     "name": "stdout",
     "output_type": "stream",
     "text": [
      "['__class__', '__contains__', '__delattr__', '__delitem__', '__dir__', '__doc__', '__eq__', '__format__', '__ge__', '__getattribute__', '__getitem__', '__gt__', '__hash__', '__init__', '__init_subclass__', '__iter__', '__le__', '__len__', '__lt__', '__ne__', '__new__', '__reduce__', '__reduce_ex__', '__repr__', '__reversed__', '__setattr__', '__setitem__', '__sizeof__', '__str__', '__subclasshook__', 'clear', 'copy', 'fromkeys', 'get', 'items', 'keys', 'pop', 'popitem', 'setdefault', 'update', 'values']\n"
     ]
    }
   ],
   "source": [
    "a = dict()\n",
    "\n",
    "print(dir(a))"
   ]
  },
  {
   "cell_type": "code",
   "execution_count": null,
   "id": "ceb7fda1-c1b1-4927-abd9-3def468e2af3",
   "metadata": {},
   "outputs": [],
   "source": []
  }
 ],
 "metadata": {
  "kernelspec": {
   "display_name": "Python 3",
   "language": "python",
   "name": "python3"
  },
  "language_info": {
   "codemirror_mode": {
    "name": "ipython",
    "version": 3
   },
   "file_extension": ".py",
   "mimetype": "text/x-python",
   "name": "python",
   "nbconvert_exporter": "python",
   "pygments_lexer": "ipython3",
   "version": "3.8.8"
  }
 },
 "nbformat": 4,
 "nbformat_minor": 5
}
