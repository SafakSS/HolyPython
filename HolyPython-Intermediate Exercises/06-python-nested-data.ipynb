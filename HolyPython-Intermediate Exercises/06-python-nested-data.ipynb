{
 "cells": [
  {
   "cell_type": "markdown",
   "id": "2210bc1f-d9f9-495a-90e9-2be49abbd25b",
   "metadata": {},
   "source": [
    "## Exercise 6-a\n",
    "Print 5 by accessing the nested data.\n"
   ]
  },
  {
   "cell_type": "code",
   "execution_count": 1,
   "id": "fd05e7fa-3fba-4fc4-a3b7-fa1449eaaa6d",
   "metadata": {},
   "outputs": [
    {
     "name": "stdout",
     "output_type": "stream",
     "text": [
      "5\n"
     ]
    }
   ],
   "source": [
    "nested_lst=[[1,2,3], [4,5,6], [7,8,9]]\n",
    "\n",
    "ans_1=nested_lst[1][1]\n",
    "\n",
    "print(ans_1)"
   ]
  },
  {
   "cell_type": "markdown",
   "id": "95f7c5b9-244a-4494-84e9-7a27b7764985",
   "metadata": {},
   "source": [
    "## Exercise 6-b\n",
    "Print \"Z\" from the nested data."
   ]
  },
  {
   "cell_type": "code",
   "execution_count": 2,
   "id": "d75e62ca-a227-4208-9354-c88371860f98",
   "metadata": {},
   "outputs": [
    {
     "name": "stdout",
     "output_type": "stream",
     "text": [
      "Z\n"
     ]
    }
   ],
   "source": [
    "nested_lst = [[\"Hat\", \"Glove\", \"Goggle\"], [\"Button\", \"Zipper\", \"Hook\"]]\n",
    "\n",
    "ans_1= nested_lst[1][1][0]\n",
    "\n",
    "print(ans_1)"
   ]
  },
  {
   "cell_type": "markdown",
   "id": "c53764ee-de64-433a-b2f9-02bb8c3a4231",
   "metadata": {},
   "source": [
    "## Exercise 6-c\n",
    "What color is the violet?"
   ]
  },
  {
   "cell_type": "code",
   "execution_count": 3,
   "id": "dd002b96-c806-457b-ae9c-45dbc45599be",
   "metadata": {},
   "outputs": [
    {
     "name": "stdout",
     "output_type": "stream",
     "text": [
      "blue\n"
     ]
    }
   ],
   "source": [
    "nested_lst = [{\"orange\": \"orange\"}, {\"rose\": \"red\"}, {\"violet\": \"blue\"}]\n",
    "\n",
    "ans_1= nested_lst[2][\"violet\"]\n",
    "\n",
    "print(ans_1)"
   ]
  },
  {
   "cell_type": "markdown",
   "id": "35f82769-d0c2-4f41-a7dd-7d023a2a62c2",
   "metadata": {},
   "source": [
    "## Exercise 6-d\n",
    "Print the values of the \"roads\" key from the nested dictionary."
   ]
  },
  {
   "cell_type": "code",
   "execution_count": 4,
   "id": "4264af50-9e87-4e5c-a8be-03dedba696e2",
   "metadata": {},
   "outputs": [
    {
     "name": "stdout",
     "output_type": "stream",
     "text": [
      "dry\n"
     ]
    }
   ],
   "source": [
    "nested_dict = {\"Dakar\":{\"weather\":\"sunny\", \"roads\":\"dry\"}}\n",
    "\n",
    "ans_1=nested_dict[\"Dakar\"][\"roads\"]\n",
    "\n",
    "print(ans_1)"
   ]
  },
  {
   "cell_type": "markdown",
   "id": "464ec445-b574-475a-8cdb-ba9bf035181e",
   "metadata": {},
   "source": [
    "## Exercise 6-e\n",
    "Print the first element of the weather for Tokyo."
   ]
  },
  {
   "cell_type": "code",
   "execution_count": 5,
   "id": "40a7b65b-de48-4f91-bb13-b4fc1c722094",
   "metadata": {},
   "outputs": [
    {
     "name": "stdout",
     "output_type": "stream",
     "text": [
      "sunny\n"
     ]
    }
   ],
   "source": [
    "nested_dict = {\"Tokyo\": {\"weather\":[\"sunny\", \"cloudy\"], \"roads\":\"dry\"}, \"Dakar\": {\"weather\":[\"foggy\",\"windy\"], \"roads\": \"sandy\"}}\n",
    "\n",
    "ans_1=nested_dict[\"Tokyo\"][\"weather\"][0]\n",
    "\n",
    "print(ans_1)"
   ]
  },
  {
   "cell_type": "code",
   "execution_count": null,
   "id": "18f4f2d4-97e1-42c9-89e9-06b464e6e29e",
   "metadata": {},
   "outputs": [],
   "source": []
  }
 ],
 "metadata": {
  "kernelspec": {
   "display_name": "Python 3",
   "language": "python",
   "name": "python3"
  },
  "language_info": {
   "codemirror_mode": {
    "name": "ipython",
    "version": 3
   },
   "file_extension": ".py",
   "mimetype": "text/x-python",
   "name": "python",
   "nbconvert_exporter": "python",
   "pygments_lexer": "ipython3",
   "version": "3.8.8"
  }
 },
 "nbformat": 4,
 "nbformat_minor": 5
}
