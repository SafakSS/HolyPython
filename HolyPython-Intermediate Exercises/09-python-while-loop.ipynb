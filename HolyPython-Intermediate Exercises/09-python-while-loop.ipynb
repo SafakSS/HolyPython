{
 "cells": [
  {
   "cell_type": "markdown",
   "metadata": {},
   "source": [
    "## Exercise 9-a\n",
    "Write a while loop that adds all the numbers up to 100 (inclusive)."
   ]
  },
  {
   "cell_type": "code",
   "execution_count": 1,
   "metadata": {},
   "outputs": [
    {
     "name": "stdout",
     "output_type": "stream",
     "text": [
      "5050\n"
     ]
    }
   ],
   "source": [
    "counter=0\n",
    "total=0\n",
    "\n",
    "while counter <= 100:\n",
    "    total += counter\n",
    "    counter += 1\n",
    "\n",
    "print(total)"
   ]
  },
  {
   "cell_type": "markdown",
   "metadata": {},
   "source": [
    "## Exercise 9-b\n",
    "Using while loop, if statement and str() function; iterate through the list and if there is a 100, print it with its index number. i.e.: \"There is a 100 at index no: 5\""
   ]
  },
  {
   "cell_type": "code",
   "execution_count": 2,
   "metadata": {},
   "outputs": [
    {
     "name": "stdout",
     "output_type": "stream",
     "text": [
      "There is a 100 at index no: 12\n"
     ]
    }
   ],
   "source": [
    "lst=[10, 99, 98, 85, 45, 59, 65, 66, 76, 12, 35, 13, 100, 80, 95]\n",
    "\n",
    "i = 0\n",
    "while i < len(lst):\n",
    "    if lst[i] == 100:\n",
    "        print(\"There is a 100 at index no: \" + str(i))\n",
    "    i += 1"
   ]
  },
  {
   "cell_type": "markdown",
   "metadata": {},
   "source": [
    "## Exercise 9-c\n",
    "Using while loop and an if statement write a function named name_adder which appends all the elements in a list to a new list unless the element is an empty string: \"\".\n",
    "\n"
   ]
  },
  {
   "cell_type": "code",
   "execution_count": 3,
   "metadata": {},
   "outputs": [
    {
     "name": "stdout",
     "output_type": "stream",
     "text": [
      "['Joe', 'Sarah', 'Mike', 'Jess', 'Matt', 'Greg']\n"
     ]
    }
   ],
   "source": [
    "lst1=[\"Joe\", \"Sarah\", \"Mike\", \"Jess\", \"\", \"Matt\", \"\", \"Greg\"]\n",
    "\n",
    "def name_adder(list):\n",
    "    i = 0\n",
    "    new_list = []\n",
    "    while i < len(list):\n",
    "        if list[i] != \"\":\n",
    "            new_list.append(list[i])\n",
    "        i = i+1\n",
    "    return new_list\n",
    "\n",
    "print(name_adder(lst1))"
   ]
  },
  {
   "cell_type": "markdown",
   "metadata": {},
   "source": [
    "## Exercise 9-d\n",
    "This time inside a function named name_adder, write a while loop that stops appending items to the new list as soon as it encounters an empty string: \"\". And prints \"There is an empty string and returns the new list.\"\n",
    "\n"
   ]
  },
  {
   "cell_type": "code",
   "execution_count": 4,
   "metadata": {},
   "outputs": [
    {
     "name": "stdout",
     "output_type": "stream",
     "text": [
      "['Sam']\n"
     ]
    }
   ],
   "source": [
    "lst1=[\"Sam\", \"\", \"Ben\", \"Olivia\", \"Alicia\"]\n",
    "\n",
    "def name_adder(list):\n",
    "    i = 0\n",
    "    new_list = []\n",
    "    while i < len(list):\n",
    "        if list[i] != \"\":\n",
    "            new_list.append(list[i])\n",
    "        else:\n",
    "            break\n",
    "        i = i+1\n",
    "    return new_list\n",
    "print(name_adder(lst1))"
   ]
  },
  {
   "cell_type": "code",
   "execution_count": null,
   "metadata": {},
   "outputs": [],
   "source": []
  }
 ],
 "metadata": {
  "kernelspec": {
   "display_name": "Python 3",
   "language": "python",
   "name": "python3"
  },
  "language_info": {
   "codemirror_mode": {
    "name": "ipython",
    "version": 3
   },
   "file_extension": ".py",
   "mimetype": "text/x-python",
   "name": "python",
   "nbconvert_exporter": "python",
   "pygments_lexer": "ipython3",
   "version": "3.8.5"
  }
 },
 "nbformat": 4,
 "nbformat_minor": 4
}
