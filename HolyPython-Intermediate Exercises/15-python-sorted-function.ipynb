{
 "cells": [
  {
   "cell_type": "markdown",
   "metadata": {},
   "source": [
    "## Exercise 15-a\n",
    "Using sorted() function, sort the list in ascending order."
   ]
  },
  {
   "cell_type": "code",
   "execution_count": 1,
   "metadata": {},
   "outputs": [
    {
     "name": "stdout",
     "output_type": "stream",
     "text": [
      "[0.5, 2, 17, 400, 500, 999, 1000, 40000]\n"
     ]
    }
   ],
   "source": [
    "lst1=[500, 1000, 400, 40000, 999, 2, 0.5, 17]\n",
    "\n",
    "lst2=sorted(lst1)\n",
    "print(lst2)"
   ]
  },
  {
   "cell_type": "markdown",
   "metadata": {},
   "source": [
    "## Exercise 15-b\n",
    "Using sorted() function, sort the list from a to z."
   ]
  },
  {
   "cell_type": "code",
   "execution_count": 2,
   "metadata": {},
   "outputs": [
    {
     "name": "stdout",
     "output_type": "stream",
     "text": [
      "['ant', 'bird', 'giraffe', 'porcupine', 'zebra']\n"
     ]
    }
   ],
   "source": [
    "lst1=[\"zebra\", \"bird\", \"ant\", \"porcupine\", \"giraffe\"]\n",
    "\n",
    "lst2=sorted(lst1)\n",
    "print(lst2)"
   ]
  },
  {
   "cell_type": "markdown",
   "metadata": {},
   "source": [
    "## Exercise 15-c\n",
    "Using sorted() function sort the list from z to a."
   ]
  },
  {
   "cell_type": "code",
   "execution_count": 3,
   "metadata": {},
   "outputs": [
    {
     "name": "stdout",
     "output_type": "stream",
     "text": [
      "['zebra', 'porcupine', 'giraffe', 'bird', 'ant']\n"
     ]
    }
   ],
   "source": [
    "lst1=[\"zebra\", \"bird\", \"ant\", \"porcupine\", \"giraffe\"]\n",
    "\n",
    "lst2=sorted(lst1,reverse=True)\n",
    "print(lst2)"
   ]
  },
  {
   "cell_type": "markdown",
   "metadata": {},
   "source": [
    "## Exercise 15-d\n",
    "Using sorted() function sort the list in descending order."
   ]
  },
  {
   "cell_type": "code",
   "execution_count": 4,
   "metadata": {},
   "outputs": [
    {
     "name": "stdout",
     "output_type": "stream",
     "text": [
      "[40000, 1000, 999, 500, 400, 17, 2, 0.5]\n"
     ]
    }
   ],
   "source": [
    "lst1=[500, 1000, 400, 40000, 999, 2, 0.5, 17]\n",
    "\n",
    "lst2=sorted(lst1,reverse=True)\n",
    "print(lst2)"
   ]
  },
  {
   "cell_type": "markdown",
   "metadata": {},
   "source": [
    "## Exercise 15-e\n",
    "Using len function and sorted() function, sort the list based on the length of the strings (In ascending order)."
   ]
  },
  {
   "cell_type": "code",
   "execution_count": 5,
   "metadata": {},
   "outputs": [
    {
     "name": "stdout",
     "output_type": "stream",
     "text": [
      "['Upper Arrow', 'Medicine', 'Plitvice', 'Moraine', 'Emerald', 'Malawi', 'Tahoe', 'Edith']\n"
     ]
    }
   ],
   "source": [
    "lakes1=[\"Malawi\", \"Medicine\", \"Tahoe\", \"Moraine\", \"Upper Arrow\", \"Plitvice\", \"Edith\", \"Emerald\"]\n",
    "\n",
    "lakes2 = sorted(lakes1, key=len, reverse=True)\n",
    "print(lakes2)"
   ]
  },
  {
   "cell_type": "markdown",
   "metadata": {},
   "source": [
    "## Exercise 15-g\n",
    "Using lambda and sorted() function, sort the list based on last characters of the items from z to a.\n",
    "\n"
   ]
  },
  {
   "cell_type": "code",
   "execution_count": 6,
   "metadata": {},
   "outputs": [
    {
     "name": "stdout",
     "output_type": "stream",
     "text": [
      "['Upper Arrow', 'Malawi', 'Edith', 'Medicine', 'Tahoe', 'Moraine', 'Plitvice', 'Emerald']\n"
     ]
    }
   ],
   "source": [
    "lakes1=[\"Malawi\", \"Medicine\", \"Tahoe\", \"Moraine\", \"Upper Arrow\", \"Plitvice\", \"Edith\", \"Emerald\"]\n",
    "\n",
    "lakes2= sorted(lakes1, key=lambda x:x[-1], reverse=True)\n",
    "print(lakes2)"
   ]
  },
  {
   "cell_type": "markdown",
   "metadata": {},
   "source": [
    "## Exercise 15-h\n",
    "Using lambda and sorted() function, sort the list based on the remainder from dividing each element to 5 (From greater to smaller).\n",
    "\n"
   ]
  },
  {
   "cell_type": "code",
   "execution_count": 7,
   "metadata": {},
   "outputs": [
    {
     "name": "stdout",
     "output_type": "stream",
     "text": [
      "[9999, 19, 333, 66, 101, 1000, 50, 300, 200, 250]\n"
     ]
    }
   ],
   "source": [
    "lst1=[1000, 50, 66, 101, 333, 9999, 19, 300, 200, 250]\n",
    "\n",
    "lst2=sorted(lst1, key=lambda x:x%5, reverse=True)\n",
    "print(lst2)"
   ]
  },
  {
   "cell_type": "code",
   "execution_count": null,
   "metadata": {},
   "outputs": [],
   "source": []
  }
 ],
 "metadata": {
  "kernelspec": {
   "display_name": "Python 3",
   "language": "python",
   "name": "python3"
  },
  "language_info": {
   "codemirror_mode": {
    "name": "ipython",
    "version": 3
   },
   "file_extension": ".py",
   "mimetype": "text/x-python",
   "name": "python",
   "nbconvert_exporter": "python",
   "pygments_lexer": "ipython3",
   "version": "3.8.5"
  }
 },
 "nbformat": 4,
 "nbformat_minor": 4
}
