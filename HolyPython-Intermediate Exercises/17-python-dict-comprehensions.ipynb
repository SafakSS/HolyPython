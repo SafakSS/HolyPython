{
 "cells": [
  {
   "cell_type": "markdown",
   "metadata": {},
   "source": [
    "## Exercise 17-a\n",
    "Create a dictionary from the list with same key:value pairs, such as: {\"key\": \"key\"}.\n",
    "\n"
   ]
  },
  {
   "cell_type": "code",
   "execution_count": 1,
   "metadata": {},
   "outputs": [
    {
     "name": "stdout",
     "output_type": "stream",
     "text": [
      "{'NY': 'NY', 'FL': 'FL', 'CA': 'CA', 'VT': 'VT'}\n"
     ]
    }
   ],
   "source": [
    "lst=[\"NY\", \"FL\", \"CA\", \"VT\"]\n",
    "\n",
    "dict = {i:i for i in lst}\n",
    "print(dict)"
   ]
  },
  {
   "cell_type": "markdown",
   "metadata": {},
   "source": [
    "## First, create a range from 100 to 160 with steps of 10.\n",
    "\n",
    "\n",
    "Second, using dict comprehension, create a dictionary where each number in the range is the key and each item divided by 100 is the value.\n",
    "\n"
   ]
  },
  {
   "cell_type": "code",
   "execution_count": 2,
   "metadata": {},
   "outputs": [
    {
     "name": "stdout",
     "output_type": "stream",
     "text": [
      "{100: 1.0, 110: 1.1, 120: 1.2, 130: 1.3, 140: 1.4, 150: 1.5}\n"
     ]
    }
   ],
   "source": [
    "rng=range(100,160,10)\n",
    "\n",
    "dict={i:i/100 for i in rng}\n",
    "print(dict)"
   ]
  },
  {
   "cell_type": "markdown",
   "metadata": {},
   "source": [
    "## Exercise 17-c\n",
    "Using dict comprehension and a conditional argument create a dictionary from the current dictionary where only the key:value pairs with value above 2000 are taken to the new dictionary."
   ]
  },
  {
   "cell_type": "code",
   "execution_count": 3,
   "metadata": {},
   "outputs": [
    {
     "name": "stdout",
     "output_type": "stream",
     "text": [
      "{'NFLX': 4950, 'TREX': 2400}\n"
     ]
    }
   ],
   "source": [
    "dict1={\"NFLX\":4950,\"TREX\":2400,\"FIZZ\":1800, \"XPO\":1700}\n",
    "\n",
    "dict2={i:dict1[i] for i in dict1 if dict1[i]>2000}\n",
    "print(dict2)"
   ]
  },
  {
   "cell_type": "code",
   "execution_count": null,
   "metadata": {},
   "outputs": [],
   "source": []
  }
 ],
 "metadata": {
  "kernelspec": {
   "display_name": "Python 3",
   "language": "python",
   "name": "python3"
  },
  "language_info": {
   "codemirror_mode": {
    "name": "ipython",
    "version": 3
   },
   "file_extension": ".py",
   "mimetype": "text/x-python",
   "name": "python",
   "nbconvert_exporter": "python",
   "pygments_lexer": "ipython3",
   "version": "3.8.5"
  }
 },
 "nbformat": 4,
 "nbformat_minor": 4
}
