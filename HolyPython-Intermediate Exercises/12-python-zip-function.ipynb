{
 "cells": [
  {
   "cell_type": "markdown",
   "metadata": {},
   "source": [
    "## Exercise 12-a: Merging 2 Lists with Zip Function\n",
    "Using zip() function and list() function, create a merged list of tuples from the two lists given."
   ]
  },
  {
   "cell_type": "code",
   "execution_count": 4,
   "metadata": {},
   "outputs": [
    {
     "name": "stdout",
     "output_type": "stream",
     "text": [
      "[(19542209, 'New York'), (4887871, 'Alabama'), (1420491, 'Hawaii'), (626299, 'Vermont'), (1805832, 'West Virginia'), (39865590, 'California')]\n"
     ]
    }
   ],
   "source": [
    "lst1=[19542209, 4887871, 1420491, 626299, 1805832, 39865590]\n",
    "lst2=[\"New York\", \"Alabama\", \"Hawaii\", \"Vermont\", \"West Virginia\",  \"California\"]\n",
    "\n",
    "lst3=list(zip(lst1,lst2))\n",
    "print(lst3)"
   ]
  },
  {
   "cell_type": "markdown",
   "metadata": {},
   "source": [
    "## Exercise 12-b: Merging a List and a Range with Zip Function\n",
    "First create a range from 1 to 8. Then using zip, merge the given list and the range together to create a new list of tuples.\n",
    "\n"
   ]
  },
  {
   "cell_type": "code",
   "execution_count": 5,
   "metadata": {},
   "outputs": [
    {
     "name": "stdout",
     "output_type": "stream",
     "text": [
      "[('Energy', 1), ('Agriculture', 2), ('Industry', 3), ('Technology', 4), ('Finance', 5), ('Forestry', 6), ('Transport', 7)]\n"
     ]
    }
   ],
   "source": [
    "lst1=[\"Energy\", \"Agriculture\", \"Industry\", \"Technology\", \"Finance\", \"Forestry\", \"Transport\"]\n",
    "\n",
    "rng1=list(range(1,8))\n",
    "lst=list(zip(lst1,rng1))\n",
    "print(lst)"
   ]
  },
  {
   "cell_type": "markdown",
   "metadata": {},
   "source": [
    "## Exercise 12-c: Creating a Dictionary by Merging 2 Lists Using Zip Function\n",
    "Using zip and dict functions create a dictionary which has its key-value pairs coming from lst1 and lst2.\n",
    "\n"
   ]
  },
  {
   "cell_type": "code",
   "execution_count": 6,
   "metadata": {},
   "outputs": [
    {
     "name": "stdout",
     "output_type": "stream",
     "text": [
      "{'Netflix': 198, 'Hulu': 166, 'Sling': 237, 'Hbo': 125}\n"
     ]
    }
   ],
   "source": [
    "lst1=[\"Netflix\", \"Hulu\", \"Sling\", \"Hbo\"]\n",
    "lst2=[198, 166, 237, 125]\n",
    "\n",
    "points=dict(zip(lst1,lst2))\n",
    "print(points)"
   ]
  },
  {
   "cell_type": "markdown",
   "metadata": {},
   "source": [
    "## Exercise 12-d: 2 Lists Zip Merged and Sorted\n",
    "Using zip, list and sorted functions create a sorted list of tuples from lst1 and lst2.\n",
    "\n"
   ]
  },
  {
   "cell_type": "code",
   "execution_count": 7,
   "metadata": {},
   "outputs": [
    {
     "name": "stdout",
     "output_type": "stream",
     "text": [
      "[('Annie', 19), ('Danny', 12), ('Jim', 7), ('Mike', 4)]\n"
     ]
    }
   ],
   "source": [
    "lst1=[\"Mike\", \"Danny\", \"Jim\", \"Annie\"]\n",
    "lst2=[4, 12, 7, 19]\n",
    "\n",
    "sorted_lst=list(zip(sorted(lst1),sorted(lst2,reverse=True)))\n",
    "print(sorted_lst)"
   ]
  },
  {
   "cell_type": "code",
   "execution_count": null,
   "metadata": {},
   "outputs": [],
   "source": []
  }
 ],
 "metadata": {
  "kernelspec": {
   "display_name": "Python 3",
   "language": "python",
   "name": "python3"
  },
  "language_info": {
   "codemirror_mode": {
    "name": "ipython",
    "version": 3
   },
   "file_extension": ".py",
   "mimetype": "text/x-python",
   "name": "python",
   "nbconvert_exporter": "python",
   "pygments_lexer": "ipython3",
   "version": "3.8.5"
  }
 },
 "nbformat": 4,
 "nbformat_minor": 4
}
