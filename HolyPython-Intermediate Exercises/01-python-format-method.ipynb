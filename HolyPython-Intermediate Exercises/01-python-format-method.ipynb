{
 "cells": [
  {
   "cell_type": "markdown",
   "id": "515fa8bf-1931-4199-ae57-46e8761e9035",
   "metadata": {},
   "source": [
    "## Exercise 1-a: Python format method of strings\n",
    "Place a curly bracket \"{}\" in the appropriate place and fill inside .format()'s parenthesis so that \"Hello!, Name\" is printed."
   ]
  },
  {
   "cell_type": "code",
   "execution_count": 1,
   "id": "1521cc7f-b445-44a9-863c-26b61b8b89d1",
   "metadata": {},
   "outputs": [
    {
     "name": "stdin",
     "output_type": "stream",
     "text": [
      "Please enter your name. Tony Stark\n"
     ]
    },
    {
     "name": "stdout",
     "output_type": "stream",
     "text": [
      "Hello!, Tony Stark\n"
     ]
    }
   ],
   "source": [
    "name=input(\"Please enter your name.\")\n",
    "\n",
    "str=\"Hello!, {}\".format(name)\n",
    "\n",
    "print(str)"
   ]
  },
  {
   "cell_type": "markdown",
   "id": "8e6cce0f-663a-4d92-8154-25da394f8c2b",
   "metadata": {},
   "source": [
    "## Exercise 1-b: Format method to type a number\n",
    "Using a string and .format() method print the number: 1 only."
   ]
  },
  {
   "cell_type": "code",
   "execution_count": 2,
   "id": "f95b4564-1d40-404a-8607-dd02c7df5849",
   "metadata": {},
   "outputs": [
    {
     "name": "stdout",
     "output_type": "stream",
     "text": [
      "1\n"
     ]
    }
   ],
   "source": [
    "print(\"{}\".format(1))"
   ]
  },
  {
   "cell_type": "markdown",
   "id": "aff78103-b90b-4911-af4c-300474c95a1b",
   "metadata": {},
   "source": [
    "## Exercise 1-c: Format method to fill multiple values\n",
    "Now using a string and .format() method and three curly brackets, print the numbers: 1, 2, 3 each separated with a comma."
   ]
  },
  {
   "cell_type": "code",
   "execution_count": 3,
   "id": "aff5d039-4e9f-4aea-a4ae-46daad9968d9",
   "metadata": {},
   "outputs": [
    {
     "name": "stdout",
     "output_type": "stream",
     "text": [
      "1,2,3\n"
     ]
    }
   ],
   "source": [
    "str = \"{},{},{}\".format(1,2,3)\n",
    "print(str)"
   ]
  },
  {
   "cell_type": "markdown",
   "id": "7f47fdc9-3985-4f61-a69b-884724189995",
   "metadata": {},
   "source": [
    "## Exercise 1-d: Format method for multiple values (more meaningful example)\n",
    "Fill in the values for months, weeks and days accordingly."
   ]
  },
  {
   "cell_type": "code",
   "execution_count": 4,
   "id": "b0665b95-0597-4a77-8275-db10f8dd6f09",
   "metadata": {},
   "outputs": [
    {
     "name": "stdout",
     "output_type": "stream",
     "text": [
      "One year has 12 months, 52 weeks and 365 days.\n"
     ]
    }
   ],
   "source": [
    "str=\"One year has {} months, {} weeks and {} days.\".format(12,52,365)\n",
    "\n",
    "print(str)"
   ]
  },
  {
   "cell_type": "markdown",
   "id": "a985bec3-eda7-49db-a919-437a36c9a459",
   "metadata": {},
   "source": [
    "## Exercise 1-e: Format method w/ value position mapping\n",
    "You can also use indexing inside your curly brackets so that you will decide the position instead of a default order.\n",
    "\n",
    "\n",
    "By filling inside the curly brackets, make sure each bracket is matched to the appropriate value."
   ]
  },
  {
   "cell_type": "code",
   "execution_count": 5,
   "id": "0407dc64-7abd-40c2-96f6-88ebe6ba327f",
   "metadata": {},
   "outputs": [
    {
     "name": "stdout",
     "output_type": "stream",
     "text": [
      "One year has 12 months, 52 weeks and 365 days.\n"
     ]
    }
   ],
   "source": [
    "str=\"One year has {2} months, {0} weeks and {1} days.\".format(52, 365, 12)\n",
    "\n",
    "print(str)"
   ]
  },
  {
   "cell_type": "markdown",
   "id": "1ae65f6b-2e86-4f63-a991-875d1b4dcf04",
   "metadata": {},
   "source": [
    "## Exercise 1-f: Mapping exam scores with Format method\n",
    "Fill inside .format()'s parenthesis so that it matches the correct values."
   ]
  },
  {
   "cell_type": "code",
   "execution_count": 6,
   "id": "70520b73-8732-4463-9352-055653ff6ccb",
   "metadata": {},
   "outputs": [
    {
     "name": "stdout",
     "output_type": "stream",
     "text": [
      "Scores were as following: John:75, Ann:80, Ally:60\n"
     ]
    }
   ],
   "source": [
    "John=75\n",
    "Ann=80\n",
    "Ally=60\n",
    "\n",
    "str=\"Scores were as following: John:{}, Ann:{}, Ally:{}\"\n",
    "\n",
    "str=str.format(John, Ann, Ally)\n",
    "\n",
    "print(str)"
   ]
  },
  {
   "cell_type": "code",
   "execution_count": null,
   "id": "b18b58fd-8833-4226-9653-659dc730fbb3",
   "metadata": {},
   "outputs": [],
   "source": []
  }
 ],
 "metadata": {
  "kernelspec": {
   "display_name": "Python 3",
   "language": "python",
   "name": "python3"
  },
  "language_info": {
   "codemirror_mode": {
    "name": "ipython",
    "version": 3
   },
   "file_extension": ".py",
   "mimetype": "text/x-python",
   "name": "python",
   "nbconvert_exporter": "python",
   "pygments_lexer": "ipython3",
   "version": "3.8.8"
  }
 },
 "nbformat": 4,
 "nbformat_minor": 5
}
