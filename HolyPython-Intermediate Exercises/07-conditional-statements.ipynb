{
 "cells": [
  {
   "cell_type": "markdown",
   "id": "848f5946-989f-4f08-ab2f-d1fc8a2b0f13",
   "metadata": {},
   "source": [
    "## Exercise 7-a\n",
    "Write an if statement that asks for the user's name via input() function. If the name is \"Bond\" make it print \"Welcome on board 007.\" Otherwise make it print \"Good morning NAME\". (Replace Name with user's name)"
   ]
  },
  {
   "cell_type": "code",
   "execution_count": 2,
   "id": "84f87a67-01fe-4785-b3f1-775cabb1d712",
   "metadata": {},
   "outputs": [
    {
     "name": "stdin",
     "output_type": "stream",
     "text": [
      "Enter name:  Bond\n"
     ]
    },
    {
     "name": "stdout",
     "output_type": "stream",
     "text": [
      "Welcome on board 007\n"
     ]
    }
   ],
   "source": [
    "name=str(input(\"Enter name: \"))\n",
    "\n",
    "if name==\"Bond\":\n",
    "    print(\"Welcome on board 007\")\n",
    "else:\n",
    "    print(\"Good morning {}\".format(name))"
   ]
  },
  {
   "cell_type": "markdown",
   "id": "786380ac-8784-4963-b7f9-3db32193f254",
   "metadata": {},
   "source": [
    "## Exercise 7-b\n",
    "Do the same thing as exercise 7-a this time making sure if the name is bond with lower case b it still prints \"Welcome on board 007.\""
   ]
  },
  {
   "cell_type": "code",
   "execution_count": 4,
   "id": "969bde2e-6c72-4509-be22-d44005cc9c7e",
   "metadata": {},
   "outputs": [
    {
     "name": "stdin",
     "output_type": "stream",
     "text": [
      "Enter name:  bond\n"
     ]
    },
    {
     "name": "stdout",
     "output_type": "stream",
     "text": [
      "Welcome on board 007\n"
     ]
    }
   ],
   "source": [
    "name = input(\"Enter name: \")\n",
    "if name.lower() == \"bond\":\n",
    "    print(\"Welcome on board 007\")\n",
    "else:\n",
    "    print(\"Good morning \" + name)"
   ]
  },
  {
   "cell_type": "markdown",
   "id": "2955b925-ae22-4895-8d37-dab8f822e966",
   "metadata": {},
   "source": [
    "## Exercise 7-c\n",
    "Write a function named \"evens\" which returns True if a number is even and otherwise returns False."
   ]
  },
  {
   "cell_type": "code",
   "execution_count": 5,
   "id": "f68e6a6a-91b7-4648-875d-2058c5913bf0",
   "metadata": {},
   "outputs": [
    {
     "name": "stdout",
     "output_type": "stream",
     "text": [
      "False\n",
      "True\n"
     ]
    }
   ],
   "source": [
    "def evens(i):\n",
    "    if i%2==0:\n",
    "        return True\n",
    "    else:\n",
    "        return False\n",
    "    \n",
    "print(evens(99))\n",
    "print(evens(98))"
   ]
  },
  {
   "cell_type": "markdown",
   "id": "3725845d-c608-4fa1-afd2-547b48114173",
   "metadata": {},
   "source": [
    "## Exercise 7-d\n",
    "Write a function named \"thedecimal\" which returns the decimal part of a number. If decimal part is zero function should return this string: \"INTEGER\"."
   ]
  },
  {
   "cell_type": "code",
   "execution_count": 12,
   "id": "35754357-5138-4a40-9689-b355fe682fc7",
   "metadata": {},
   "outputs": [],
   "source": [
    "# Solution 1:\n",
    "def thedecimal(number):\n",
    "    if type(number) == int:\n",
    "        return \"INTEGER\"\n",
    "    else:\n",
    "        f_number = number-int(number)\n",
    "        return f_number\n",
    "    \n",
    "print(thedecimal(55.55))\n",
    "\n",
    "######################################\n",
    "#Solution 2:\n",
    "def thedecimal(i):\n",
    "    if i - int(i) != 0:\n",
    "        return i-int(i)\n",
    "    else:\n",
    "        return \"INTEGER\"\n",
    "print(thedecimal(55.55))"
   ]
  },
  {
   "cell_type": "markdown",
   "id": "8b4e8672-65e7-4702-b96e-ca7dcef6bcba",
   "metadata": {},
   "source": [
    "## Exercise 7-e\n",
    "treepersqkm is a dictionary showing the tree number of countries per square kilometer for random countries with sizeable population numbers. Write a function named \"moretrees\" that returns a list of country names with more than 20.000 trees per square kilometer."
   ]
  },
  {
   "cell_type": "code",
   "execution_count": 22,
   "id": "7591a406-7c25-4a54-bada-207c334feef3",
   "metadata": {},
   "outputs": [
    {
     "name": "stdout",
     "output_type": "stream",
     "text": [
      "['Finland', 'Taiwan', 'Japan', 'Russia', 'Brazil', 'Canada', 'Bulgaria', 'France', 'Greece', 'United States']\n"
     ]
    }
   ],
   "source": [
    "treepersqkm = {\"Finland\": 90652, \"Taiwan\": 69593, \"Japan\": 49894, \"Russia\": 41396, \"Brazil\": 39542, \"Canada\": 36388, \"Bulgaria\": 24987, \"France\": 24436, \"Greece\": 24323, \"United States\": 23513, \"Turkey\": 11126, \"India\": 11109, \"Denmark\": 6129, \"Syria\": 534, \"Saudi Arabia\": 1}\n",
    "\n",
    "def moretrees(dict):\n",
    "    lst = []\n",
    "    for i in dict:\n",
    "        if dict[i]>20000:\n",
    "            lst.append(i)\n",
    "        else:\n",
    "            pass\n",
    "    return lst\n",
    "\n",
    "print(moretrees(treepersqkm))"
   ]
  },
  {
   "cell_type": "markdown",
   "id": "94314e16-cc9a-4e1a-a736-115e24a8dc6b",
   "metadata": {},
   "source": [
    "## Exercise 7-f\n",
    "Write a function named \"count_l\" that counts the number of words that contain the letter: \"l\" in a given string."
   ]
  },
  {
   "cell_type": "code",
   "execution_count": 24,
   "id": "15508c78-079f-4a0e-9d7b-ed7371035944",
   "metadata": {},
   "outputs": [
    {
     "name": "stdout",
     "output_type": "stream",
     "text": [
      "4\n"
     ]
    }
   ],
   "source": [
    "str = \"Oranges and lemons, Say the bells of St. Clement's. You owe me three farthings, Say the bells of St. Martin's\"\n",
    "\n",
    "def count_l(a):\n",
    "    count = 0\n",
    "    \n",
    "    words = str.split(\" \")\n",
    " \n",
    "    for i in words:\n",
    "        if \"l\" in i:\n",
    "            count += 1\n",
    "        else:\n",
    "            pass\n",
    "    return count\n",
    "   \n",
    "print(count_l(str))"
   ]
  },
  {
   "cell_type": "markdown",
   "id": "a69e25aa-16e0-480f-8620-0c8bc78d8b4e",
   "metadata": {},
   "source": [
    "## Exercise 7-g\n",
    "Write a similar function to 7-e which returns the number of words that start with letter \"S\" in a string. (Make sure it counts lower case a's as well.)."
   ]
  },
  {
   "cell_type": "code",
   "execution_count": 28,
   "id": "ee3f0777-7917-4842-9ae9-8a9107dc9079",
   "metadata": {},
   "outputs": [
    {
     "name": "stdout",
     "output_type": "stream",
     "text": [
      "4\n",
      "4\n"
     ]
    }
   ],
   "source": [
    "str = \"Oranges and lemons, Say the bells of St. Clement's. You owe me three farthings, Say the bells of St. Martin's\"\n",
    "\n",
    "# Solution 1:\n",
    "def count_l(a):\n",
    "    count = 0\n",
    "    \n",
    "    words = str.split(\" \")\n",
    "    for word in words:\n",
    "        if word.startswith(\"S\") or word.startswith(\"s\"):\n",
    "            count += 1\n",
    "        else:\n",
    "            pass\n",
    "    return count\n",
    "\n",
    "print(count_l(str))\n",
    "\n",
    "# Solution 2:\n",
    "def count_l(a):\n",
    "    count = 0\n",
    "    \n",
    "    words = str.split(\" \")\n",
    "    for word in words:\n",
    "        if word[0].lower() == 's':\n",
    "            count += 1\n",
    "        else:\n",
    "            pass\n",
    "    return count\n",
    "\n",
    "print(count_l(str))"
   ]
  },
  {
   "cell_type": "code",
   "execution_count": null,
   "id": "b7f8e250-b74e-4da9-913b-af8b5cf04e50",
   "metadata": {},
   "outputs": [],
   "source": []
  }
 ],
 "metadata": {
  "kernelspec": {
   "display_name": "Python 3",
   "language": "python",
   "name": "python3"
  },
  "language_info": {
   "codemirror_mode": {
    "name": "ipython",
    "version": 3
   },
   "file_extension": ".py",
   "mimetype": "text/x-python",
   "name": "python",
   "nbconvert_exporter": "python",
   "pygments_lexer": "ipython3",
   "version": "3.8.8"
  }
 },
 "nbformat": 4,
 "nbformat_minor": 5
}
