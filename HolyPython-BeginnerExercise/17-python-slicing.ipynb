{
 "cells": [
  {
   "cell_type": "markdown",
   "metadata": {},
   "source": [
    "## Exercise 17-a\n",
    "Slice the word until first \"a\". (Tosc)"
   ]
  },
  {
   "cell_type": "code",
   "execution_count": 1,
   "metadata": {},
   "outputs": [
    {
     "name": "stdout",
     "output_type": "stream",
     "text": [
      "Tosc\n"
     ]
    }
   ],
   "source": [
    "wrd=\"Toscana\"\n",
    "\n",
    "ans_1= wrd[0:4]\n",
    "\n",
    "print(ans_1)"
   ]
  },
  {
   "cell_type": "markdown",
   "metadata": {},
   "source": [
    "## Exercise 17-b\n",
    "Slice the word so that you get \"cana\"."
   ]
  },
  {
   "cell_type": "code",
   "execution_count": 2,
   "metadata": {},
   "outputs": [
    {
     "name": "stdout",
     "output_type": "stream",
     "text": [
      "cana\n"
     ]
    }
   ],
   "source": [
    "wrd=\"Toscana\"\n",
    "\n",
    "ans_1=wrd[3:]\n",
    "\n",
    "print(ans_1)"
   ]
  },
  {
   "cell_type": "markdown",
   "metadata": {},
   "source": [
    "## Exercise 17-c\n",
    "Now try to get \"can\" only."
   ]
  },
  {
   "cell_type": "code",
   "execution_count": 3,
   "metadata": {},
   "outputs": [
    {
     "name": "stdout",
     "output_type": "stream",
     "text": [
      "can\n"
     ]
    }
   ],
   "source": [
    "wrd=\"Toscana\"\n",
    "\n",
    "ans_1=wrd[3:6]\n",
    "\n",
    "print(ans_1)"
   ]
  },
  {
   "cell_type": "markdown",
   "metadata": {},
   "source": [
    "## Exercise 17-d\n",
    "Can you slice the word from beginning to the end with steps of 2 (including the last character.)?"
   ]
  },
  {
   "cell_type": "code",
   "execution_count": 4,
   "metadata": {},
   "outputs": [
    {
     "name": "stdout",
     "output_type": "stream",
     "text": [
      "Tsaa\n"
     ]
    }
   ],
   "source": [
    "wrd=\"Toscana\"\n",
    "\n",
    "ans_1=wrd[::2]\n",
    "\n",
    "print (ans_1)"
   ]
  },
  {
   "cell_type": "markdown",
   "metadata": {},
   "source": [
    "## Exercise 17-e\n",
    "Now slice the word with steps of 2, excluding first and last characters."
   ]
  },
  {
   "cell_type": "code",
   "execution_count": 5,
   "metadata": {},
   "outputs": [
    {
     "name": "stdout",
     "output_type": "stream",
     "text": [
      "ocn\n"
     ]
    }
   ],
   "source": [
    "wrd=\"Toscana\"\n",
    "\n",
    "ans_1=wrd[1:-1:2]\n",
    "\n",
    "print(ans_1)"
   ]
  },
  {
   "cell_type": "markdown",
   "metadata": {},
   "source": [
    "## Exercise 17-f\n",
    "Can you slice the list so that it's reversed without using the .reverse() method?"
   ]
  },
  {
   "cell_type": "code",
   "execution_count": 6,
   "metadata": {},
   "outputs": [
    {
     "name": "stdout",
     "output_type": "stream",
     "text": [
      "[4, 3, 2, 1, 0]\n"
     ]
    }
   ],
   "source": [
    "lst=[0,1,2,3,4]\n",
    "\n",
    "ans_1=lst[::-1]\n",
    "\n",
    "print(ans_1)"
   ]
  },
  {
   "cell_type": "markdown",
   "metadata": {},
   "source": [
    "## Exercise 17-g\n",
    "Slice the list so that only last 2 elements are included."
   ]
  },
  {
   "cell_type": "code",
   "execution_count": 10,
   "metadata": {},
   "outputs": [
    {
     "name": "stdout",
     "output_type": "stream",
     "text": [
      "[3, 4]\n"
     ]
    }
   ],
   "source": [
    "lst=[0,1,2,3,4]\n",
    "\n",
    "ans_1=lst[-2:]\n",
    "\n",
    "print(ans_1)"
   ]
  },
  {
   "cell_type": "markdown",
   "metadata": {},
   "source": [
    "## Exercise 17-h\n",
    "Slice the second and third elements (50 and 20) in the list."
   ]
  },
  {
   "cell_type": "code",
   "execution_count": 11,
   "metadata": {},
   "outputs": [
    {
     "name": "stdout",
     "output_type": "stream",
     "text": [
      "[50, 20]\n"
     ]
    }
   ],
   "source": [
    "lst=[40,50,20,30,90]\n",
    "\n",
    "ans_1=lst[1:3]\n",
    "\n",
    "print(ans_1)"
   ]
  },
  {
   "cell_type": "code",
   "execution_count": null,
   "metadata": {},
   "outputs": [],
   "source": []
  }
 ],
 "metadata": {
  "kernelspec": {
   "display_name": "Python 3",
   "language": "python",
   "name": "python3"
  },
  "language_info": {
   "codemirror_mode": {
    "name": "ipython",
    "version": 3
   },
   "file_extension": ".py",
   "mimetype": "text/x-python",
   "name": "python",
   "nbconvert_exporter": "python",
   "pygments_lexer": "ipython3",
   "version": "3.8.5"
  }
 },
 "nbformat": 4,
 "nbformat_minor": 4
}
