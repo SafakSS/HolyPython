{
 "cells": [
  {
   "cell_type": "markdown",
   "metadata": {},
   "source": [
    "## Exercise 10-a\n",
    "Using len() function find out how many items are in the list."
   ]
  },
  {
   "cell_type": "code",
   "execution_count": 1,
   "metadata": {},
   "outputs": [
    {
     "name": "stdout",
     "output_type": "stream",
     "text": [
      "7\n"
     ]
    }
   ],
   "source": [
    "lst=[11, 10, 12, 101, 99, 1000, 999]\n",
    "\n",
    "answer_1= len(lst)\n",
    "\n",
    "print(answer_1)"
   ]
  },
  {
   "cell_type": "markdown",
   "metadata": {},
   "source": [
    "## Exercise 10-b\n",
    "len() function can also tell the length of a string.\n",
    "\n",
    "\n",
    "Find out the length of the string given below."
   ]
  },
  {
   "cell_type": "code",
   "execution_count": 2,
   "metadata": {},
   "outputs": [
    {
     "name": "stdout",
     "output_type": "stream",
     "text": [
      "36\n"
     ]
    }
   ],
   "source": [
    "msg=\"Be yourself, everyone else is taken.\"\n",
    "\n",
    "msg_length=len(msg)\n",
    "\n",
    "print(msg_length)"
   ]
  },
  {
   "cell_type": "markdown",
   "metadata": {},
   "source": [
    "## Exercise 10-c\n",
    "How many keys are there in the dictionary?"
   ]
  },
  {
   "cell_type": "code",
   "execution_count": 3,
   "metadata": {},
   "outputs": [
    {
     "name": "stdout",
     "output_type": "stream",
     "text": [
      "5\n"
     ]
    }
   ],
   "source": [
    "dict={\"Real Madrid\": 13,\"AC Milan\": 7,\"Bayern Munich\":5 ,\"Barcelona\": 5, \"Liverpool\": 5}\n",
    "\n",
    "ans_1= len(dict)\n",
    "\n",
    "print(ans_1)"
   ]
  },
  {
   "cell_type": "markdown",
   "metadata": {},
   "source": [
    "## Exercise 10-d\n",
    "Call the last element of the list by using the len() function."
   ]
  },
  {
   "cell_type": "code",
   "execution_count": 4,
   "metadata": {},
   "outputs": [
    {
     "name": "stdout",
     "output_type": "stream",
     "text": [
      "jam\n"
     ]
    }
   ],
   "source": [
    "gift_list=['socks', '4K drone', 'wine', 'jam']\n",
    "\n",
    "index_no=len(gift_list)-1\n",
    "\n",
    "ans_1=gift_list[index_no]\n",
    "\n",
    "print(ans_1)"
   ]
  },
  {
   "cell_type": "markdown",
   "metadata": {},
   "source": [
    "## Exercise 10-e\n",
    "Below is a nested data. Find out the length of the item: 'raincoat'. You can use reverse indexing."
   ]
  },
  {
   "cell_type": "code",
   "execution_count": 5,
   "metadata": {},
   "outputs": [
    {
     "name": "stdout",
     "output_type": "stream",
     "text": [
      "8\n"
     ]
    }
   ],
   "source": [
    "gift_list=['4K drone', 'wine', 'jam', ['socks', 'pajamas', 'raincoat']]\n",
    "\n",
    "ans_1 = len(gift_list[-1][-1])\n",
    "\n",
    "print(ans_1)"
   ]
  }
 ],
 "metadata": {
  "kernelspec": {
   "display_name": "Python 3",
   "language": "python",
   "name": "python3"
  },
  "language_info": {
   "codemirror_mode": {
    "name": "ipython",
    "version": 3
   },
   "file_extension": ".py",
   "mimetype": "text/x-python",
   "name": "python",
   "nbconvert_exporter": "python",
   "pygments_lexer": "ipython3",
   "version": "3.8.5"
  }
 },
 "nbformat": 4,
 "nbformat_minor": 4
}
