{
 "cells": [
  {
   "cell_type": "markdown",
   "metadata": {},
   "source": [
    "## Exercise 11-a\n",
    "Sort the list in ascending order with .sort() method."
   ]
  },
  {
   "cell_type": "code",
   "execution_count": 1,
   "metadata": {},
   "outputs": [
    {
     "name": "stdout",
     "output_type": "stream",
     "text": [
      "[11, 99, 100, 999, 1000]\n"
     ]
    }
   ],
   "source": [
    "lst=[11, 100, 99, 1000, 999]\n",
    "\n",
    "lst.sort()\n",
    "\n",
    "print(lst)"
   ]
  },
  {
   "cell_type": "markdown",
   "metadata": {},
   "source": [
    "## Exercise 11-b\n",
    "This time sort the countries in alphabetic order."
   ]
  },
  {
   "cell_type": "code",
   "execution_count": 2,
   "metadata": {},
   "outputs": [
    {
     "name": "stdout",
     "output_type": "stream",
     "text": [
      "['Belize', 'Canada', 'India', 'Japan', 'Kazakhstan', 'Taiwan', 'Ukraine']\n"
     ]
    }
   ],
   "source": [
    "lst=[\"Ukraine\", \"Japan\", \"Canada\", \"Kazakhstan\", \"Taiwan\", \"India\", \"Belize\"]\n",
    "\n",
    "lst.sort()\n",
    "\n",
    "print(lst)"
   ]
  },
  {
   "cell_type": "markdown",
   "metadata": {},
   "source": [
    "## Exercise 11-c\n",
    "Now sort the list in descending order with .sort() method.\n",
    "\n"
   ]
  },
  {
   "cell_type": "code",
   "execution_count": 3,
   "metadata": {},
   "outputs": [
    {
     "name": "stdout",
     "output_type": "stream",
     "text": [
      "[1001, 999, 101, 100, 11]\n"
     ]
    }
   ],
   "source": [
    "lst=[11, 100, 101, 999, 1001]\n",
    "\n",
    "lst.sort(reverse = True)\n",
    "\n",
    "print(lst)"
   ]
  },
  {
   "cell_type": "markdown",
   "metadata": {},
   "source": [
    "## Exercise 11-d\n",
    "Can you sort the gift list in reverse alphabetic order?"
   ]
  },
  {
   "cell_type": "code",
   "execution_count": 4,
   "metadata": {},
   "outputs": [
    {
     "name": "stdout",
     "output_type": "stream",
     "text": [
      "['wine', 'socks', 'jam', '4K drone']\n"
     ]
    }
   ],
   "source": [
    "gift_list=['socks', '4K drone', 'wine', 'jam']\n",
    "\n",
    "gift_list.sort(reverse=True)\n",
    "\n",
    "print(gift_list)"
   ]
  },
  {
   "cell_type": "markdown",
   "metadata": {},
   "source": [
    "## Exercise 11-e\n",
    "Sort the list below in reverse alphabetic order and then assign the last element to the answer_1 variable."
   ]
  },
  {
   "cell_type": "code",
   "execution_count": 5,
   "metadata": {},
   "outputs": [
    {
     "name": "stdout",
     "output_type": "stream",
     "text": [
      "Bears\n"
     ]
    }
   ],
   "source": [
    "NFL=[\"Panthers\", \"Bears\", \"Dolphins\" \"Patriots\", \"Saints\", \"Giants\"]\n",
    "\n",
    "NFL.sort(reverse=True)\n",
    "\n",
    "answer_1= NFL[-1]\n",
    "\n",
    "print(answer_1)"
   ]
  },
  {
   "cell_type": "markdown",
   "metadata": {},
   "source": [
    "## Exercise 11-f\n",
    "Sort the cities from z to a."
   ]
  },
  {
   "cell_type": "code",
   "execution_count": 6,
   "metadata": {},
   "outputs": [
    {
     "name": "stdout",
     "output_type": "stream",
     "text": [
      "['Shanghai', 'Moscow', 'Montreal', 'Melbourne', 'Delhi', 'Atlanta']\n"
     ]
    }
   ],
   "source": [
    "muni=[\"Melbourne\", \"Shanghai\", \"Delhi\", \"Atlanta\", \"Moscow\", \"Montreal\"]\n",
    "\n",
    "muni.sort(reverse=True)\n",
    "\n",
    "print(muni)"
   ]
  },
  {
   "cell_type": "markdown",
   "metadata": {},
   "source": [
    "## Exercise 11-g\n",
    "Sort the keys of the dictionary from a to z.\n",
    "\n",
    "\n",
    "Hint: You might want to create a list of the keys first with the help of a dictionary method."
   ]
  },
  {
   "cell_type": "code",
   "execution_count": 7,
   "metadata": {},
   "outputs": [
    {
     "name": "stdout",
     "output_type": "stream",
     "text": [
      "['cheesecake', 'chocolate', 'pudding', 'tiramisu']\n"
     ]
    }
   ],
   "source": [
    "dict={\"tiramisu\":5, \"chocolate\":2, \"pudding\":3, \"cheesecake\":4}\n",
    "\n",
    "key_list= list(dict.keys())\n",
    "key_list.sort()\n",
    "\n",
    "print(key_list)"
   ]
  }
 ],
 "metadata": {
  "kernelspec": {
   "display_name": "Python 3",
   "language": "python",
   "name": "python3"
  },
  "language_info": {
   "codemirror_mode": {
    "name": "ipython",
    "version": 3
   },
   "file_extension": ".py",
   "mimetype": "text/x-python",
   "name": "python",
   "nbconvert_exporter": "python",
   "pygments_lexer": "ipython3",
   "version": "3.8.5"
  }
 },
 "nbformat": 4,
 "nbformat_minor": 4
}
