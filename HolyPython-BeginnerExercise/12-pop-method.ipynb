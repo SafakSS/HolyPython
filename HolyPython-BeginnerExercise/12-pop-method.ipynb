{
 "cells": [
  {
   "cell_type": "markdown",
   "metadata": {},
   "source": [
    "## Exercise 12-a: Python pop method of lists and dictionaries\n",
    "Pop the last item of the list below."
   ]
  },
  {
   "cell_type": "code",
   "execution_count": 2,
   "metadata": {},
   "outputs": [
    {
     "name": "stdout",
     "output_type": "stream",
     "text": [
      "999\n",
      "[11, 100, 99, 1000]\n"
     ]
    }
   ],
   "source": [
    "lst=[11, 100, 99, 1000, 999]\n",
    "\n",
    "popped_item= lst.pop(len(lst)-1)\n",
    "\n",
    "# OR popped_item= lst.pop()\n",
    " \n",
    "print(popped_item)\n",
    "print(lst)"
   ]
  },
  {
   "cell_type": "markdown",
   "metadata": {},
   "source": [
    "## Exercise 12-b: Python pop method to remove last list item\n",
    "Remove \"broccoli\" from the list using .pop and .index methods.\n",
    "\n"
   ]
  },
  {
   "cell_type": "code",
   "execution_count": 3,
   "metadata": {},
   "outputs": [
    {
     "name": "stdout",
     "output_type": "stream",
     "text": [
      "['milk', 'banana', 'eggs', 'bread', 'lemons'] broccoli\n"
     ]
    }
   ],
   "source": [
    "lst=[\"milk\", \"banana\", \"eggs\", \"bread\", \"broccoli\", \"lemons\"]\n",
    "\n",
    "a = lst.index(\"broccoli\")\n",
    "item=lst.pop(a)\n",
    "\n",
    "print(lst, item)"
   ]
  },
  {
   "cell_type": "markdown",
   "metadata": {},
   "source": [
    "## Exercise 12-c: Pop method also saves the item being removed\n",
    "Save Italy's GDP in a separate variable and remove it from the dictionary."
   ]
  },
  {
   "cell_type": "code",
   "execution_count": 4,
   "metadata": {},
   "outputs": [
    {
     "name": "stdout",
     "output_type": "stream",
     "text": [
      "{'US': 21, 'China': 16, 'Japan': 5, 'Germany': 4, 'India': 3, 'France': 3, 'UK': 3}\n",
      "2 trillion USD\n"
     ]
    }
   ],
   "source": [
    "GDP_2018={\"US\": 21, \"China\": 16, \"Japan\": 5, \"Germany\": 4, \"India\": 3, \"France\": 3, \"UK\": 3, \"Italy\": 2}\n",
    "\n",
    "italy_gdp = GDP_2018.pop(\"Italy\")\n",
    "\n",
    "print(GDP_2018)\n",
    "print(italy_gdp, \"trillion USD\")"
   ]
  }
 ],
 "metadata": {
  "kernelspec": {
   "display_name": "Python 3",
   "language": "python",
   "name": "python3"
  },
  "language_info": {
   "codemirror_mode": {
    "name": "ipython",
    "version": 3
   },
   "file_extension": ".py",
   "mimetype": "text/x-python",
   "name": "python",
   "nbconvert_exporter": "python",
   "pygments_lexer": "ipython3",
   "version": "3.8.5"
  }
 },
 "nbformat": 4,
 "nbformat_minor": 4
}
