{
 "cells": [
  {
   "cell_type": "markdown",
   "metadata": {},
   "source": [
    "## Exercise 6-a: Calling Elements of a Python List (Index 0)\n",
    "Assign the first element of the list to answer_1 on line 2"
   ]
  },
  {
   "cell_type": "code",
   "execution_count": 1,
   "metadata": {},
   "outputs": [
    {
     "name": "stdout",
     "output_type": "stream",
     "text": [
      "11\n"
     ]
    }
   ],
   "source": [
    "lst=[11, 100, 99, 1000, 999]\n",
    "answer_1=lst[0]\n",
    "\n",
    "print(answer_1)"
   ]
  },
  {
   "cell_type": "markdown",
   "metadata": {},
   "source": [
    "## Exercise 6-b: Calling List Elements and Indexing\n",
    "And let's print the second element directly inside print function.\n",
    "\n",
    "\n",
    "This time print the second element of the list directly on line 3. You should get 100."
   ]
  },
  {
   "cell_type": "code",
   "execution_count": 2,
   "metadata": {},
   "outputs": [
    {
     "name": "stdout",
     "output_type": "stream",
     "text": [
      "100\n"
     ]
    }
   ],
   "source": [
    "lst=[11, 100, 101, 999, 1001]\n",
    "\n",
    "print(lst[1])"
   ]
  },
  {
   "cell_type": "markdown",
   "metadata": {},
   "source": [
    "## Exercise 6-c: Calling List Elements (Negative Index)\n",
    "And the last element.\n",
    "\n",
    "\n",
    "Print the last element of the list through variable answer_1."
   ]
  },
  {
   "cell_type": "code",
   "execution_count": 3,
   "metadata": {},
   "outputs": [
    {
     "name": "stdout",
     "output_type": "stream",
     "text": [
      "1001\n"
     ]
    }
   ],
   "source": [
    "lst=[11, 100, 101, 999, 1001]\n",
    "\n",
    "answer_1=lst[-1]\n",
    "\n",
    "print(answer_1)"
   ]
  },
  {
   "cell_type": "markdown",
   "metadata": {},
   "source": [
    "## Exercise 6-d: Append method to add items to the end of Python Lists\n",
    ".append method will let you add items to your lists.\n",
    "\n",
    "\n",
    "On line 3, add the string \"pajamas\" to the list with .append() method.\n",
    "\n"
   ]
  },
  {
   "cell_type": "code",
   "execution_count": 4,
   "metadata": {},
   "outputs": [
    {
     "name": "stdout",
     "output_type": "stream",
     "text": [
      "['socks', '4K drone', 'wine', 'jam', 'pajamas']\n"
     ]
    }
   ],
   "source": [
    "gift_list=['socks', '4K drone', 'wine', 'jam']\n",
    "\n",
    "gift_list.append('pajamas')\n",
    "\n",
    "print(gift_list)"
   ]
  },
  {
   "cell_type": "markdown",
   "metadata": {},
   "source": [
    "## Exercise 6-e: List inside List (Python Nested Data)\n",
    "Lists can hold many type of data inside them. You can even add another list to a list as its element. This is called nested data in Python.\n",
    "\n",
    "\n",
    "#On line 3, this time add the sub-list: [\"socks\", \"tshirt\", \"pajamas\"] to the end of the gift_list."
   ]
  },
  {
   "cell_type": "code",
   "execution_count": 5,
   "metadata": {},
   "outputs": [
    {
     "name": "stdout",
     "output_type": "stream",
     "text": [
      "['socks', '4K drone', 'wine', 'jam', ['socks', 'tshirt', 'pajamas']]\n"
     ]
    }
   ],
   "source": [
    "gift_list=['socks', '4K drone', 'wine', 'jam']\n",
    "\n",
    "gift_list.append([\"socks\", \"tshirt\", \"pajamas\"])\n",
    "\n",
    "print(gift_list)"
   ]
  },
  {
   "cell_type": "markdown",
   "metadata": {},
   "source": [
    "## Exercise 6-f: Insert method to add to a specified index of a Python List\n",
    ".insert() lets you specify the index you want to add your item.\n",
    "\n",
    "\n",
    "On line 3, this time insert \"slippers\" to index 3 of gift_list."
   ]
  },
  {
   "cell_type": "code",
   "execution_count": 6,
   "metadata": {},
   "outputs": [
    {
     "name": "stdout",
     "output_type": "stream",
     "text": [
      "['socks', '4K drone', 'slippers', 'wine', 'jam']\n"
     ]
    }
   ],
   "source": [
    "gift_list=['socks', '4K drone', 'wine', 'jam']\n",
    "\n",
    "gift_list.insert(2,'slippers')\n",
    "\n",
    "print(gift_list)"
   ]
  },
  {
   "cell_type": "markdown",
   "metadata": {},
   "source": [
    "## Exercise 6-g: Index method to get the index of a List Item\n",
    "With .index() method you can learn the index number of an item inside your list. Assign the index no of 8679 to the variable answer_1."
   ]
  },
  {
   "cell_type": "code",
   "execution_count": 7,
   "metadata": {},
   "outputs": [
    {
     "name": "stdout",
     "output_type": "stream",
     "text": [
      "8\n"
     ]
    }
   ],
   "source": [
    "lst=[55, 777, 54, 6, 76, 101, 1, 2, 8679, 123, 99]\n",
    "\n",
    "answer_1=lst.index(8679)\n",
    "\n",
    "print(answer_1)"
   ]
  },
  {
   "cell_type": "markdown",
   "metadata": {},
   "source": [
    "## Exercise 6-h: Adding a different type of element to a List using Append\n",
    "Using .append() method, add a new list to the end of the list which contains strings: \"Navigator\" and \"Suburban\".\n",
    "\n"
   ]
  },
  {
   "cell_type": "code",
   "execution_count": 8,
   "metadata": {},
   "outputs": [
    {
     "name": "stdout",
     "output_type": "stream",
     "text": [
      "['CRV', 'Outback', 'XC90', 'GL', 'Cherokee', 'Escalade', ['Navigator', 'Suburban']]\n"
     ]
    }
   ],
   "source": [
    "lst=[\"CRV\", \"Outback\", \"XC90\", \"GL\", \"Cherokee\", \"Escalade\"]\n",
    "\n",
    "l = ['Navigator','Suburban']\n",
    "lst.append(l)\n",
    "\n",
    "print(lst)"
   ]
  },
  {
   "cell_type": "markdown",
   "metadata": {},
   "source": [
    "## Exercise 6-i: Removing the last item of a list (.remove() method)\n",
    "Using .remove() method, clear the last element of the list.\n",
    "\n"
   ]
  },
  {
   "cell_type": "code",
   "execution_count": 9,
   "metadata": {},
   "outputs": [
    {
     "name": "stdout",
     "output_type": "stream",
     "text": [
      "[55, 777, 54, 6, 76, 101, 1, 2, 8679, 123]\n"
     ]
    }
   ],
   "source": [
    "lst=[55, 777, 54, 6, 76, 101, 1, 2, 8679, 123, 99]\n",
    "\n",
    "lst.remove(99)\n",
    "\n",
    "print(lst)"
   ]
  },
  {
   "cell_type": "markdown",
   "metadata": {},
   "source": [
    "## Exercise 6-j: Reversing a Python list (.reverse() method)\n",
    "Using .reverse() method, reverse the list."
   ]
  },
  {
   "cell_type": "code",
   "execution_count": 10,
   "metadata": {},
   "outputs": [
    {
     "name": "stdout",
     "output_type": "stream",
     "text": [
      "[99, 123, 8679, 2, 1, 101, 76, 6, 54, 777, 55]\n"
     ]
    }
   ],
   "source": [
    "lst=[55, 777, 54, 6, 76, 101, 1, 2, 8679, 123, 99]\n",
    "\n",
    "lst.reverse()\n",
    "\n",
    "print(lst)"
   ]
  },
  {
   "cell_type": "markdown",
   "metadata": {},
   "source": [
    "## Exercise 6-k: Count Method to get the amount of an item in a list\n",
    "Using .count() method, count how many times 6 occur in the list."
   ]
  },
  {
   "cell_type": "code",
   "execution_count": 11,
   "metadata": {},
   "outputs": [
    {
     "name": "stdout",
     "output_type": "stream",
     "text": [
      "4\n"
     ]
    }
   ],
   "source": [
    "lst=[55, 6, 777, 54, 6, 76, 101, 1, 6, 2, 6]\n",
    "\n",
    "answer_1=lst.count(6)\n",
    "\n",
    "print(answer_1)"
   ]
  },
  {
   "cell_type": "markdown",
   "metadata": {},
   "source": [
    "## Exercise 6-l: Adding up all the items in a List w/ Sum Function\n",
    "What is the sum of all the numbers in the list?"
   ]
  },
  {
   "cell_type": "code",
   "execution_count": 12,
   "metadata": {},
   "outputs": [
    {
     "name": "stdout",
     "output_type": "stream",
     "text": [
      "1090\n"
     ]
    }
   ],
   "source": [
    "lst=[55, 6, 777, 54, 6, 76, 101, 1, 6, 2, 6]\n",
    "\n",
    "answer_1=sum(lst)\n",
    "\n",
    "print(answer_1)"
   ]
  },
  {
   "cell_type": "markdown",
   "metadata": {},
   "source": [
    "## Exercise 6-m: Max Function to Get the Lowest Value in a List\n",
    "What is the minimum value in the list?"
   ]
  },
  {
   "cell_type": "code",
   "execution_count": 13,
   "metadata": {},
   "outputs": [
    {
     "name": "stdout",
     "output_type": "stream",
     "text": [
      "1\n"
     ]
    }
   ],
   "source": [
    "lst=[55, 6, 777, 54, 6, 76, 101, 1, 6, 2, 6]\n",
    "\n",
    "answer_1=min(lst)\n",
    "\n",
    "print(answer_1)"
   ]
  },
  {
   "cell_type": "markdown",
   "metadata": {},
   "source": [
    "## Exercise 6-n: Max Function to Get the Highest Value in a List\n",
    "What is the maximum value in the list?"
   ]
  },
  {
   "cell_type": "code",
   "execution_count": 14,
   "metadata": {},
   "outputs": [
    {
     "name": "stdout",
     "output_type": "stream",
     "text": [
      "777\n"
     ]
    }
   ],
   "source": [
    "lst=[55, 6, 777, 54, 6, 76, 101, 1, 6, 2, 6]\n",
    "\n",
    "answer_1=max(lst)\n",
    "\n",
    "print(answer_1)"
   ]
  }
 ],
 "metadata": {
  "kernelspec": {
   "display_name": "Python 3",
   "language": "python",
   "name": "python3"
  },
  "language_info": {
   "codemirror_mode": {
    "name": "ipython",
    "version": 3
   },
   "file_extension": ".py",
   "mimetype": "text/x-python",
   "name": "python",
   "nbconvert_exporter": "python",
   "pygments_lexer": "ipython3",
   "version": "3.8.5"
  }
 },
 "nbformat": 4,
 "nbformat_minor": 4
}
